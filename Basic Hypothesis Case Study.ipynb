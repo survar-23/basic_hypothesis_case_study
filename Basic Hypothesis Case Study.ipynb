{
 "cells": [
  {
   "cell_type": "markdown",
   "id": "9561eaa7",
   "metadata": {},
   "source": [
    "# <center> Basic Statistics Case Study </center>"
   ]
  },
  {
   "cell_type": "code",
   "execution_count": 2,
   "id": "55a572b5",
   "metadata": {},
   "outputs": [],
   "source": [
    "# Libraries\n",
    "import numpy as np\n",
    "import pandas as pd\n",
    "import seaborn as sns\n",
    "import matplotlib.pyplot as plt\n",
    "import scipy.stats as stats\n",
    "%matplotlib inline\n",
    "from datetime import datetime, timedelta, date"
   ]
  },
  {
   "cell_type": "markdown",
   "id": "31c8103a",
   "metadata": {},
   "source": [
    "#### BUSINESS PROBLEM-1:"
   ]
  },
  {
   "cell_type": "markdown",
   "id": "6e5b2a1a",
   "metadata": {},
   "source": [
    "Lending Club is a peer-to-peer lending platform where members lend to each other, with anonymized loan and borrower data publicly accessible. \n",
    "\n",
    "##### Using Lending Club data, our team aims to test these hypotheses:\n",
    "\n",
    "a. Interest rates vary with loan amounts, potentially favoring higher loan amounts.</br>\n",
    "b. Loan durations directly impact interest rates.</br>\n",
    "c. Interest rates fluctuate depending on the loan purpose.</br>\n",
    "d. Investigating the relationship between FICO scores and home ownership, suggesting home owners may have higher scores."
   ]
  },
  {
   "cell_type": "markdown",
   "id": "31351d1a",
   "metadata": {},
   "source": [
    "<b>Data</b>: We have the <b><i>\"LoansData.csv\"</i></b> dataset, featuring the following variables (with data types and explanations):\n",
    "\n",
    "- <b>Amount.Requested</b>: Numeric, representing the requested loan amount (in dollars).\n",
    "- <b>Amount.Funded.By.Investors</b>: Numeric, indicating the amount funded by investors (in dollars).\n",
    "- <b>Interest.rate</b>: Character, denoting the lending interest rate charged to the borrower.\n",
    "- <b>Loan.length</b>: Character, specifying the loan duration in months.\n",
    "- <b>Loan.Purpose</b>: Categorical, describing the purpose of the loan as stated by the applicant.\n",
    "- <b>Debt.to.Income.Ratio</b>: Character, showing the percentage of the consumer's gross income dedicated to debt payments.\n",
    "- <b>State</b>: Character, providing the U.S. state abbreviation of the applicant's residence.\n",
    "- <b>Home.ownership</b>: Character, indicating whether the applicant owns, rents, or has a mortgage.\n",
    "- <b>Monthly.income: Categorical, representing the monthly income of the applicant (in dollars).\n",
    "- <b>FICO.range</b>: Categorical (expressed as a string label, e.g., \"650-655\"), indicating the applicant's FICO score range.\n",
    "- <b>Open.CREDIT.Lines</b>: Numeric, displaying the number of open lines of credit at the time of application.\n",
    "- <b>Revolving.CREDIT.Balance</b>: Numeric, showing the total outstanding balance across all credit lines.\n",
    "- <b>Inquiries.in.the.Last.6.Months</b>: Numeric, indicating the number of credit inquiries made in the previous 6 months.\n",
    "- <b>Employment.Length</b>: Character, detailing the length of time employed at the current job."
   ]
  },
  {
   "cell_type": "code",
   "execution_count": 3,
   "id": "b529978d",
   "metadata": {},
   "outputs": [],
   "source": [
    "#Data Availability\n",
    "LoanData=pd.read_csv(\"E:\\\\CS\\DS360\\\\DS360-20230716T150307Z-001\\\\DS360\\\\Data Science 360\\\\Data Science 360\\\\Python\\\\Basic Statistics - Hypothesis Testing\\\\LoansData.csv\")"
   ]
  },
  {
   "cell_type": "code",
   "execution_count": 4,
   "id": "1e81cb0f",
   "metadata": {},
   "outputs": [
    {
     "data": {
      "text/html": [
       "<div>\n",
       "<style scoped>\n",
       "    .dataframe tbody tr th:only-of-type {\n",
       "        vertical-align: middle;\n",
       "    }\n",
       "\n",
       "    .dataframe tbody tr th {\n",
       "        vertical-align: top;\n",
       "    }\n",
       "\n",
       "    .dataframe thead th {\n",
       "        text-align: right;\n",
       "    }\n",
       "</style>\n",
       "<table border=\"1\" class=\"dataframe\">\n",
       "  <thead>\n",
       "    <tr style=\"text-align: right;\">\n",
       "      <th></th>\n",
       "      <th>Amount.Requested</th>\n",
       "      <th>Amount.Funded.By.Investors</th>\n",
       "      <th>Interest.Rate</th>\n",
       "      <th>Loan.Length</th>\n",
       "      <th>Loan.Purpose</th>\n",
       "      <th>Debt.To.Income.Ratio</th>\n",
       "      <th>State</th>\n",
       "      <th>Home.Ownership</th>\n",
       "      <th>Monthly.Income</th>\n",
       "      <th>FICO.Range</th>\n",
       "      <th>Open.CREDIT.Lines</th>\n",
       "      <th>Revolving.CREDIT.Balance</th>\n",
       "      <th>Inquiries.in.the.Last.6.Months</th>\n",
       "      <th>Employment.Length</th>\n",
       "    </tr>\n",
       "  </thead>\n",
       "  <tbody>\n",
       "    <tr>\n",
       "      <th>0</th>\n",
       "      <td>20000.0</td>\n",
       "      <td>20000.0</td>\n",
       "      <td>8.90%</td>\n",
       "      <td>36 months</td>\n",
       "      <td>debt_consolidation</td>\n",
       "      <td>14.90%</td>\n",
       "      <td>SC</td>\n",
       "      <td>MORTGAGE</td>\n",
       "      <td>6541.67</td>\n",
       "      <td>735-739</td>\n",
       "      <td>14.0</td>\n",
       "      <td>14272.0</td>\n",
       "      <td>2.0</td>\n",
       "      <td>&lt; 1 year</td>\n",
       "    </tr>\n",
       "    <tr>\n",
       "      <th>1</th>\n",
       "      <td>19200.0</td>\n",
       "      <td>19200.0</td>\n",
       "      <td>12.12%</td>\n",
       "      <td>36 months</td>\n",
       "      <td>debt_consolidation</td>\n",
       "      <td>28.36%</td>\n",
       "      <td>TX</td>\n",
       "      <td>MORTGAGE</td>\n",
       "      <td>4583.33</td>\n",
       "      <td>715-719</td>\n",
       "      <td>12.0</td>\n",
       "      <td>11140.0</td>\n",
       "      <td>1.0</td>\n",
       "      <td>2 years</td>\n",
       "    </tr>\n",
       "    <tr>\n",
       "      <th>2</th>\n",
       "      <td>35000.0</td>\n",
       "      <td>35000.0</td>\n",
       "      <td>21.98%</td>\n",
       "      <td>60 months</td>\n",
       "      <td>debt_consolidation</td>\n",
       "      <td>23.81%</td>\n",
       "      <td>CA</td>\n",
       "      <td>MORTGAGE</td>\n",
       "      <td>11500.00</td>\n",
       "      <td>690-694</td>\n",
       "      <td>14.0</td>\n",
       "      <td>21977.0</td>\n",
       "      <td>1.0</td>\n",
       "      <td>2 years</td>\n",
       "    </tr>\n",
       "    <tr>\n",
       "      <th>3</th>\n",
       "      <td>10000.0</td>\n",
       "      <td>9975.0</td>\n",
       "      <td>9.99%</td>\n",
       "      <td>36 months</td>\n",
       "      <td>debt_consolidation</td>\n",
       "      <td>14.30%</td>\n",
       "      <td>KS</td>\n",
       "      <td>MORTGAGE</td>\n",
       "      <td>3833.33</td>\n",
       "      <td>695-699</td>\n",
       "      <td>10.0</td>\n",
       "      <td>9346.0</td>\n",
       "      <td>0.0</td>\n",
       "      <td>5 years</td>\n",
       "    </tr>\n",
       "    <tr>\n",
       "      <th>4</th>\n",
       "      <td>12000.0</td>\n",
       "      <td>12000.0</td>\n",
       "      <td>11.71%</td>\n",
       "      <td>36 months</td>\n",
       "      <td>credit_card</td>\n",
       "      <td>18.78%</td>\n",
       "      <td>NJ</td>\n",
       "      <td>RENT</td>\n",
       "      <td>3195.00</td>\n",
       "      <td>695-699</td>\n",
       "      <td>11.0</td>\n",
       "      <td>14469.0</td>\n",
       "      <td>0.0</td>\n",
       "      <td>9 years</td>\n",
       "    </tr>\n",
       "  </tbody>\n",
       "</table>\n",
       "</div>"
      ],
      "text/plain": [
       "   Amount.Requested  Amount.Funded.By.Investors Interest.Rate Loan.Length  \\\n",
       "0           20000.0                     20000.0         8.90%   36 months   \n",
       "1           19200.0                     19200.0        12.12%   36 months   \n",
       "2           35000.0                     35000.0        21.98%   60 months   \n",
       "3           10000.0                      9975.0         9.99%   36 months   \n",
       "4           12000.0                     12000.0        11.71%   36 months   \n",
       "\n",
       "         Loan.Purpose Debt.To.Income.Ratio State Home.Ownership  \\\n",
       "0  debt_consolidation               14.90%    SC       MORTGAGE   \n",
       "1  debt_consolidation               28.36%    TX       MORTGAGE   \n",
       "2  debt_consolidation               23.81%    CA       MORTGAGE   \n",
       "3  debt_consolidation               14.30%    KS       MORTGAGE   \n",
       "4         credit_card               18.78%    NJ           RENT   \n",
       "\n",
       "   Monthly.Income FICO.Range  Open.CREDIT.Lines  Revolving.CREDIT.Balance  \\\n",
       "0         6541.67    735-739               14.0                   14272.0   \n",
       "1         4583.33    715-719               12.0                   11140.0   \n",
       "2        11500.00    690-694               14.0                   21977.0   \n",
       "3         3833.33    695-699               10.0                    9346.0   \n",
       "4         3195.00    695-699               11.0                   14469.0   \n",
       "\n",
       "   Inquiries.in.the.Last.6.Months Employment.Length  \n",
       "0                             2.0          < 1 year  \n",
       "1                             1.0           2 years  \n",
       "2                             1.0           2 years  \n",
       "3                             0.0           5 years  \n",
       "4                             0.0           9 years  "
      ]
     },
     "execution_count": 4,
     "metadata": {},
     "output_type": "execute_result"
    }
   ],
   "source": [
    "#Explonatory Data Analysis | Data Profiling | Data Inspection\n",
    "LoanData.head(5)"
   ]
  },
  {
   "cell_type": "code",
   "execution_count": 5,
   "id": "4bf0d418",
   "metadata": {},
   "outputs": [
    {
     "name": "stdout",
     "output_type": "stream",
     "text": [
      "<class 'pandas.core.frame.DataFrame'>\n",
      "RangeIndex: 2500 entries, 0 to 2499\n",
      "Data columns (total 14 columns):\n",
      " #   Column                          Non-Null Count  Dtype  \n",
      "---  ------                          --------------  -----  \n",
      " 0   Amount.Requested                2499 non-null   float64\n",
      " 1   Amount.Funded.By.Investors      2499 non-null   float64\n",
      " 2   Interest.Rate                   2498 non-null   object \n",
      " 3   Loan.Length                     2500 non-null   object \n",
      " 4   Loan.Purpose                    2500 non-null   object \n",
      " 5   Debt.To.Income.Ratio            2499 non-null   object \n",
      " 6   State                           2500 non-null   object \n",
      " 7   Home.Ownership                  2499 non-null   object \n",
      " 8   Monthly.Income                  2499 non-null   float64\n",
      " 9   FICO.Range                      2498 non-null   object \n",
      " 10  Open.CREDIT.Lines               2497 non-null   float64\n",
      " 11  Revolving.CREDIT.Balance        2497 non-null   float64\n",
      " 12  Inquiries.in.the.Last.6.Months  2497 non-null   float64\n",
      " 13  Employment.Length               2423 non-null   object \n",
      "dtypes: float64(6), object(8)\n",
      "memory usage: 273.6+ KB\n"
     ]
    }
   ],
   "source": [
    "LoanData.info()"
   ]
  },
  {
   "cell_type": "code",
   "execution_count": 6,
   "id": "aec2d32b",
   "metadata": {},
   "outputs": [
    {
     "data": {
      "text/plain": [
       "Amount.Requested                   380\n",
       "Amount.Funded.By.Investors         710\n",
       "Interest.Rate                      275\n",
       "Loan.Length                          2\n",
       "Loan.Purpose                        14\n",
       "Debt.To.Income.Ratio              1669\n",
       "State                               46\n",
       "Home.Ownership                       5\n",
       "Monthly.Income                     632\n",
       "FICO.Range                          38\n",
       "Open.CREDIT.Lines                   29\n",
       "Revolving.CREDIT.Balance          2349\n",
       "Inquiries.in.the.Last.6.Months      10\n",
       "Employment.Length                   11\n",
       "dtype: int64"
      ]
     },
     "execution_count": 6,
     "metadata": {},
     "output_type": "execute_result"
    }
   ],
   "source": [
    "LoanData.nunique()"
   ]
  },
  {
   "cell_type": "code",
   "execution_count": 7,
   "id": "11a0ed03",
   "metadata": {},
   "outputs": [
    {
     "data": {
      "text/plain": [
       "Amount.Requested                   1\n",
       "Amount.Funded.By.Investors         1\n",
       "Interest.Rate                      2\n",
       "Loan.Length                        0\n",
       "Loan.Purpose                       0\n",
       "Debt.To.Income.Ratio               1\n",
       "State                              0\n",
       "Home.Ownership                     1\n",
       "Monthly.Income                     1\n",
       "FICO.Range                         2\n",
       "Open.CREDIT.Lines                  3\n",
       "Revolving.CREDIT.Balance           3\n",
       "Inquiries.in.the.Last.6.Months     3\n",
       "Employment.Length                 77\n",
       "dtype: int64"
      ]
     },
     "execution_count": 7,
     "metadata": {},
     "output_type": "execute_result"
    }
   ],
   "source": [
    "LoanData.isnull().sum()"
   ]
  },
  {
   "cell_type": "code",
   "execution_count": 8,
   "id": "7b859a57",
   "metadata": {},
   "outputs": [
    {
     "data": {
      "text/plain": [
       "0       False\n",
       "1       False\n",
       "2       False\n",
       "3       False\n",
       "4       False\n",
       "        ...  \n",
       "2495    False\n",
       "2496    False\n",
       "2497    False\n",
       "2498    False\n",
       "2499    False\n",
       "Length: 2500, dtype: bool"
      ]
     },
     "execution_count": 8,
     "metadata": {},
     "output_type": "execute_result"
    }
   ],
   "source": [
    "LoanData.duplicated()"
   ]
  },
  {
   "cell_type": "code",
   "execution_count": 9,
   "id": "99c9aecc",
   "metadata": {},
   "outputs": [
    {
     "data": {
      "text/html": [
       "<div>\n",
       "<style scoped>\n",
       "    .dataframe tbody tr th:only-of-type {\n",
       "        vertical-align: middle;\n",
       "    }\n",
       "\n",
       "    .dataframe tbody tr th {\n",
       "        vertical-align: top;\n",
       "    }\n",
       "\n",
       "    .dataframe thead th {\n",
       "        text-align: right;\n",
       "    }\n",
       "</style>\n",
       "<table border=\"1\" class=\"dataframe\">\n",
       "  <thead>\n",
       "    <tr style=\"text-align: right;\">\n",
       "      <th></th>\n",
       "      <th>count</th>\n",
       "      <th>mean</th>\n",
       "      <th>std</th>\n",
       "      <th>min</th>\n",
       "      <th>25%</th>\n",
       "      <th>50%</th>\n",
       "      <th>75%</th>\n",
       "      <th>max</th>\n",
       "    </tr>\n",
       "  </thead>\n",
       "  <tbody>\n",
       "    <tr>\n",
       "      <th>Amount.Requested</th>\n",
       "      <td>2499.0</td>\n",
       "      <td>12405.462185</td>\n",
       "      <td>7802.933666</td>\n",
       "      <td>1000.00</td>\n",
       "      <td>6000.0</td>\n",
       "      <td>10000.0</td>\n",
       "      <td>17000.0</td>\n",
       "      <td>35000.0</td>\n",
       "    </tr>\n",
       "    <tr>\n",
       "      <th>Amount.Funded.By.Investors</th>\n",
       "      <td>2499.0</td>\n",
       "      <td>12002.374186</td>\n",
       "      <td>7746.767348</td>\n",
       "      <td>-0.01</td>\n",
       "      <td>6000.0</td>\n",
       "      <td>10000.0</td>\n",
       "      <td>16000.0</td>\n",
       "      <td>35000.0</td>\n",
       "    </tr>\n",
       "    <tr>\n",
       "      <th>Monthly.Income</th>\n",
       "      <td>2499.0</td>\n",
       "      <td>5688.931321</td>\n",
       "      <td>3963.118185</td>\n",
       "      <td>588.50</td>\n",
       "      <td>3500.0</td>\n",
       "      <td>5000.0</td>\n",
       "      <td>6800.0</td>\n",
       "      <td>102750.0</td>\n",
       "    </tr>\n",
       "    <tr>\n",
       "      <th>Open.CREDIT.Lines</th>\n",
       "      <td>2497.0</td>\n",
       "      <td>10.072887</td>\n",
       "      <td>4.507416</td>\n",
       "      <td>2.00</td>\n",
       "      <td>7.0</td>\n",
       "      <td>9.0</td>\n",
       "      <td>13.0</td>\n",
       "      <td>38.0</td>\n",
       "    </tr>\n",
       "    <tr>\n",
       "      <th>Revolving.CREDIT.Balance</th>\n",
       "      <td>2497.0</td>\n",
       "      <td>15223.184622</td>\n",
       "      <td>18281.015258</td>\n",
       "      <td>0.00</td>\n",
       "      <td>5584.0</td>\n",
       "      <td>10948.0</td>\n",
       "      <td>18861.0</td>\n",
       "      <td>270800.0</td>\n",
       "    </tr>\n",
       "    <tr>\n",
       "      <th>Inquiries.in.the.Last.6.Months</th>\n",
       "      <td>2497.0</td>\n",
       "      <td>0.906688</td>\n",
       "      <td>1.231149</td>\n",
       "      <td>0.00</td>\n",
       "      <td>0.0</td>\n",
       "      <td>0.0</td>\n",
       "      <td>1.0</td>\n",
       "      <td>9.0</td>\n",
       "    </tr>\n",
       "  </tbody>\n",
       "</table>\n",
       "</div>"
      ],
      "text/plain": [
       "                                 count          mean           std      min  \\\n",
       "Amount.Requested                2499.0  12405.462185   7802.933666  1000.00   \n",
       "Amount.Funded.By.Investors      2499.0  12002.374186   7746.767348    -0.01   \n",
       "Monthly.Income                  2499.0   5688.931321   3963.118185   588.50   \n",
       "Open.CREDIT.Lines               2497.0     10.072887      4.507416     2.00   \n",
       "Revolving.CREDIT.Balance        2497.0  15223.184622  18281.015258     0.00   \n",
       "Inquiries.in.the.Last.6.Months  2497.0      0.906688      1.231149     0.00   \n",
       "\n",
       "                                   25%      50%      75%       max  \n",
       "Amount.Requested                6000.0  10000.0  17000.0   35000.0  \n",
       "Amount.Funded.By.Investors      6000.0  10000.0  16000.0   35000.0  \n",
       "Monthly.Income                  3500.0   5000.0   6800.0  102750.0  \n",
       "Open.CREDIT.Lines                  7.0      9.0     13.0      38.0  \n",
       "Revolving.CREDIT.Balance        5584.0  10948.0  18861.0  270800.0  \n",
       "Inquiries.in.the.Last.6.Months     0.0      0.0      1.0       9.0  "
      ]
     },
     "execution_count": 9,
     "metadata": {},
     "output_type": "execute_result"
    }
   ],
   "source": [
    "LoanData.describe().T"
   ]
  },
  {
   "cell_type": "code",
   "execution_count": 10,
   "id": "879cdebf",
   "metadata": {},
   "outputs": [],
   "source": [
    "# Data Prep | Data Cleaning | Data Munging | Data Wrangling\n",
    "LoanData.rename(columns={'Amount.Requested':'Amount_Requested', 'Amount.Funded.By.Investors':'Amount_Funded_By_Investors', 'Interest.Rate':'Interest_Rate', 'Loan.Length':'Loan_Length', 'Loan.Purpose':'Loan_Purpose','Loan.Purchase':'Loan_Purchase', 'Debt.To.Income.Ratio':'Debt_To_Income_Ratio', 'Home.Ownership':'Home_Ownership', 'Monthly.Income':'Monthly_Income', 'FICO.Range':'FICO_Range', 'Open.CREDIT.Lines':'Open_CREDIT_Lines', 'Revolving.CREDIT.Balance':'Revoling_CREDIT_Balance', 'Inquiries.in.the.Last.6.Months':'Inquiries_in_the_Last_6_Months', 'Employment.Length':'Employment_Length_In_Year'}, inplace=True)"
   ]
  },
  {
   "cell_type": "code",
   "execution_count": 11,
   "id": "51076d7d",
   "metadata": {},
   "outputs": [
    {
     "data": {
      "text/html": [
       "<div>\n",
       "<style scoped>\n",
       "    .dataframe tbody tr th:only-of-type {\n",
       "        vertical-align: middle;\n",
       "    }\n",
       "\n",
       "    .dataframe tbody tr th {\n",
       "        vertical-align: top;\n",
       "    }\n",
       "\n",
       "    .dataframe thead th {\n",
       "        text-align: right;\n",
       "    }\n",
       "</style>\n",
       "<table border=\"1\" class=\"dataframe\">\n",
       "  <thead>\n",
       "    <tr style=\"text-align: right;\">\n",
       "      <th></th>\n",
       "      <th>Amount_Requested</th>\n",
       "      <th>Amount_Funded_By_Investors</th>\n",
       "      <th>Interest_Rate</th>\n",
       "      <th>Loan_Length</th>\n",
       "      <th>Loan_Purpose</th>\n",
       "      <th>Debt_To_Income_Ratio</th>\n",
       "      <th>State</th>\n",
       "      <th>Home_Ownership</th>\n",
       "      <th>Monthly_Income</th>\n",
       "      <th>FICO_Range</th>\n",
       "      <th>Open_CREDIT_Lines</th>\n",
       "      <th>Revoling_CREDIT_Balance</th>\n",
       "      <th>Inquiries_in_the_Last_6_Months</th>\n",
       "      <th>Employment_Length_In_Year</th>\n",
       "    </tr>\n",
       "  </thead>\n",
       "  <tbody>\n",
       "    <tr>\n",
       "      <th>0</th>\n",
       "      <td>20000.0</td>\n",
       "      <td>20000.0</td>\n",
       "      <td>8.90%</td>\n",
       "      <td>36 months</td>\n",
       "      <td>debt_consolidation</td>\n",
       "      <td>14.90%</td>\n",
       "      <td>SC</td>\n",
       "      <td>MORTGAGE</td>\n",
       "      <td>6541.67</td>\n",
       "      <td>735-739</td>\n",
       "      <td>14.0</td>\n",
       "      <td>14272.0</td>\n",
       "      <td>2.0</td>\n",
       "      <td>&lt; 1 year</td>\n",
       "    </tr>\n",
       "    <tr>\n",
       "      <th>1</th>\n",
       "      <td>19200.0</td>\n",
       "      <td>19200.0</td>\n",
       "      <td>12.12%</td>\n",
       "      <td>36 months</td>\n",
       "      <td>debt_consolidation</td>\n",
       "      <td>28.36%</td>\n",
       "      <td>TX</td>\n",
       "      <td>MORTGAGE</td>\n",
       "      <td>4583.33</td>\n",
       "      <td>715-719</td>\n",
       "      <td>12.0</td>\n",
       "      <td>11140.0</td>\n",
       "      <td>1.0</td>\n",
       "      <td>2 years</td>\n",
       "    </tr>\n",
       "    <tr>\n",
       "      <th>2</th>\n",
       "      <td>35000.0</td>\n",
       "      <td>35000.0</td>\n",
       "      <td>21.98%</td>\n",
       "      <td>60 months</td>\n",
       "      <td>debt_consolidation</td>\n",
       "      <td>23.81%</td>\n",
       "      <td>CA</td>\n",
       "      <td>MORTGAGE</td>\n",
       "      <td>11500.00</td>\n",
       "      <td>690-694</td>\n",
       "      <td>14.0</td>\n",
       "      <td>21977.0</td>\n",
       "      <td>1.0</td>\n",
       "      <td>2 years</td>\n",
       "    </tr>\n",
       "  </tbody>\n",
       "</table>\n",
       "</div>"
      ],
      "text/plain": [
       "   Amount_Requested  Amount_Funded_By_Investors Interest_Rate Loan_Length  \\\n",
       "0           20000.0                     20000.0         8.90%   36 months   \n",
       "1           19200.0                     19200.0        12.12%   36 months   \n",
       "2           35000.0                     35000.0        21.98%   60 months   \n",
       "\n",
       "         Loan_Purpose Debt_To_Income_Ratio State Home_Ownership  \\\n",
       "0  debt_consolidation               14.90%    SC       MORTGAGE   \n",
       "1  debt_consolidation               28.36%    TX       MORTGAGE   \n",
       "2  debt_consolidation               23.81%    CA       MORTGAGE   \n",
       "\n",
       "   Monthly_Income FICO_Range  Open_CREDIT_Lines  Revoling_CREDIT_Balance  \\\n",
       "0         6541.67    735-739               14.0                  14272.0   \n",
       "1         4583.33    715-719               12.0                  11140.0   \n",
       "2        11500.00    690-694               14.0                  21977.0   \n",
       "\n",
       "   Inquiries_in_the_Last_6_Months Employment_Length_In_Year  \n",
       "0                             2.0                  < 1 year  \n",
       "1                             1.0                   2 years  \n",
       "2                             1.0                   2 years  "
      ]
     },
     "execution_count": 11,
     "metadata": {},
     "output_type": "execute_result"
    }
   ],
   "source": [
    "LoanData.head(3)"
   ]
  },
  {
   "cell_type": "code",
   "execution_count": 12,
   "id": "a0114eab",
   "metadata": {},
   "outputs": [],
   "source": [
    "LoanData['Interest_Rate']=LoanData['Interest_Rate'].str.replace(\"%\", '')\n",
    "LoanData['Debt_To_Income_Ratio']=LoanData['Debt_To_Income_Ratio'].str.replace(\"%\", '')\n",
    "LoanData['Employment_Length_In_Year']=LoanData['Employment_Length_In_Year'].str.replace(\"years\", '')\n",
    "LoanData['Employment_Length_In_Year']=LoanData['Employment_Length_In_Year'].str.replace(\"year\", '')\n",
    "LoanData['Employment_Length_In_Year']=LoanData['Employment_Length_In_Year'].str.replace(\"<\", '')"
   ]
  },
  {
   "cell_type": "code",
   "execution_count": 13,
   "id": "c4600b90",
   "metadata": {},
   "outputs": [
    {
     "data": {
      "text/html": [
       "<div>\n",
       "<style scoped>\n",
       "    .dataframe tbody tr th:only-of-type {\n",
       "        vertical-align: middle;\n",
       "    }\n",
       "\n",
       "    .dataframe tbody tr th {\n",
       "        vertical-align: top;\n",
       "    }\n",
       "\n",
       "    .dataframe thead th {\n",
       "        text-align: right;\n",
       "    }\n",
       "</style>\n",
       "<table border=\"1\" class=\"dataframe\">\n",
       "  <thead>\n",
       "    <tr style=\"text-align: right;\">\n",
       "      <th></th>\n",
       "      <th>Amount_Requested</th>\n",
       "      <th>Amount_Funded_By_Investors</th>\n",
       "      <th>Interest_Rate</th>\n",
       "      <th>Loan_Length</th>\n",
       "      <th>Loan_Purpose</th>\n",
       "      <th>Debt_To_Income_Ratio</th>\n",
       "      <th>State</th>\n",
       "      <th>Home_Ownership</th>\n",
       "      <th>Monthly_Income</th>\n",
       "      <th>FICO_Range</th>\n",
       "      <th>Open_CREDIT_Lines</th>\n",
       "      <th>Revoling_CREDIT_Balance</th>\n",
       "      <th>Inquiries_in_the_Last_6_Months</th>\n",
       "      <th>Employment_Length_In_Year</th>\n",
       "    </tr>\n",
       "  </thead>\n",
       "  <tbody>\n",
       "    <tr>\n",
       "      <th>0</th>\n",
       "      <td>20000.0</td>\n",
       "      <td>20000.0</td>\n",
       "      <td>8.90</td>\n",
       "      <td>36 months</td>\n",
       "      <td>debt_consolidation</td>\n",
       "      <td>14.90</td>\n",
       "      <td>SC</td>\n",
       "      <td>MORTGAGE</td>\n",
       "      <td>6541.67</td>\n",
       "      <td>735-739</td>\n",
       "      <td>14.0</td>\n",
       "      <td>14272.0</td>\n",
       "      <td>2.0</td>\n",
       "      <td>1</td>\n",
       "    </tr>\n",
       "    <tr>\n",
       "      <th>1</th>\n",
       "      <td>19200.0</td>\n",
       "      <td>19200.0</td>\n",
       "      <td>12.12</td>\n",
       "      <td>36 months</td>\n",
       "      <td>debt_consolidation</td>\n",
       "      <td>28.36</td>\n",
       "      <td>TX</td>\n",
       "      <td>MORTGAGE</td>\n",
       "      <td>4583.33</td>\n",
       "      <td>715-719</td>\n",
       "      <td>12.0</td>\n",
       "      <td>11140.0</td>\n",
       "      <td>1.0</td>\n",
       "      <td>2</td>\n",
       "    </tr>\n",
       "    <tr>\n",
       "      <th>2</th>\n",
       "      <td>35000.0</td>\n",
       "      <td>35000.0</td>\n",
       "      <td>21.98</td>\n",
       "      <td>60 months</td>\n",
       "      <td>debt_consolidation</td>\n",
       "      <td>23.81</td>\n",
       "      <td>CA</td>\n",
       "      <td>MORTGAGE</td>\n",
       "      <td>11500.00</td>\n",
       "      <td>690-694</td>\n",
       "      <td>14.0</td>\n",
       "      <td>21977.0</td>\n",
       "      <td>1.0</td>\n",
       "      <td>2</td>\n",
       "    </tr>\n",
       "  </tbody>\n",
       "</table>\n",
       "</div>"
      ],
      "text/plain": [
       "   Amount_Requested  Amount_Funded_By_Investors Interest_Rate Loan_Length  \\\n",
       "0           20000.0                     20000.0          8.90   36 months   \n",
       "1           19200.0                     19200.0         12.12   36 months   \n",
       "2           35000.0                     35000.0         21.98   60 months   \n",
       "\n",
       "         Loan_Purpose Debt_To_Income_Ratio State Home_Ownership  \\\n",
       "0  debt_consolidation                14.90    SC       MORTGAGE   \n",
       "1  debt_consolidation                28.36    TX       MORTGAGE   \n",
       "2  debt_consolidation                23.81    CA       MORTGAGE   \n",
       "\n",
       "   Monthly_Income FICO_Range  Open_CREDIT_Lines  Revoling_CREDIT_Balance  \\\n",
       "0         6541.67    735-739               14.0                  14272.0   \n",
       "1         4583.33    715-719               12.0                  11140.0   \n",
       "2        11500.00    690-694               14.0                  21977.0   \n",
       "\n",
       "   Inquiries_in_the_Last_6_Months Employment_Length_In_Year  \n",
       "0                             2.0                        1   \n",
       "1                             1.0                        2   \n",
       "2                             1.0                        2   "
      ]
     },
     "execution_count": 13,
     "metadata": {},
     "output_type": "execute_result"
    }
   ],
   "source": [
    "LoanData.head(3)"
   ]
  },
  {
   "cell_type": "code",
   "execution_count": 14,
   "id": "e26bbbb1",
   "metadata": {},
   "outputs": [
    {
     "name": "stdout",
     "output_type": "stream",
     "text": [
      "<class 'pandas.core.frame.DataFrame'>\n",
      "RangeIndex: 2500 entries, 0 to 2499\n",
      "Data columns (total 14 columns):\n",
      " #   Column                          Non-Null Count  Dtype  \n",
      "---  ------                          --------------  -----  \n",
      " 0   Amount_Requested                2499 non-null   float64\n",
      " 1   Amount_Funded_By_Investors      2499 non-null   float64\n",
      " 2   Interest_Rate                   2498 non-null   object \n",
      " 3   Loan_Length                     2500 non-null   object \n",
      " 4   Loan_Purpose                    2500 non-null   object \n",
      " 5   Debt_To_Income_Ratio            2499 non-null   object \n",
      " 6   State                           2500 non-null   object \n",
      " 7   Home_Ownership                  2499 non-null   object \n",
      " 8   Monthly_Income                  2499 non-null   float64\n",
      " 9   FICO_Range                      2498 non-null   object \n",
      " 10  Open_CREDIT_Lines               2497 non-null   float64\n",
      " 11  Revoling_CREDIT_Balance         2497 non-null   float64\n",
      " 12  Inquiries_in_the_Last_6_Months  2497 non-null   float64\n",
      " 13  Employment_Length_In_Year       2423 non-null   object \n",
      "dtypes: float64(6), object(8)\n",
      "memory usage: 273.6+ KB\n"
     ]
    }
   ],
   "source": [
    "LoanData.info()"
   ]
  },
  {
   "cell_type": "code",
   "execution_count": 15,
   "id": "fddda3ab",
   "metadata": {},
   "outputs": [
    {
     "data": {
      "text/plain": [
       "Amount_Requested                   380\n",
       "Amount_Funded_By_Investors         710\n",
       "Interest_Rate                      275\n",
       "Loan_Length                          2\n",
       "Loan_Purpose                        14\n",
       "Debt_To_Income_Ratio              1669\n",
       "State                               46\n",
       "Home_Ownership                       5\n",
       "Monthly_Income                     632\n",
       "FICO_Range                          38\n",
       "Open_CREDIT_Lines                   29\n",
       "Revoling_CREDIT_Balance           2349\n",
       "Inquiries_in_the_Last_6_Months      10\n",
       "Employment_Length_In_Year           11\n",
       "dtype: int64"
      ]
     },
     "execution_count": 15,
     "metadata": {},
     "output_type": "execute_result"
    }
   ],
   "source": [
    "LoanData.nunique()"
   ]
  },
  {
   "cell_type": "code",
   "execution_count": 16,
   "id": "f2dbead1",
   "metadata": {},
   "outputs": [],
   "source": [
    "LoanData['Interest_Rate']=pd.to_numeric(LoanData.Interest_Rate)\n",
    "LoanData['Debt_To_Income_Ratio']=pd.to_numeric(LoanData.Debt_To_Income_Ratio)"
   ]
  },
  {
   "cell_type": "code",
   "execution_count": 17,
   "id": "8983effd",
   "metadata": {},
   "outputs": [],
   "source": [
    "LoanData.Amount_Requested.fillna(LoanData.Amount_Requested.mean(), inplace=True)\n",
    "LoanData.Amount_Funded_By_Investors.fillna(LoanData.Amount_Funded_By_Investors.mean(), inplace=True)\n",
    "LoanData.Interest_Rate.fillna(LoanData.Interest_Rate.mean(), inplace=True)\n",
    "LoanData.Debt_To_Income_Ratio.fillna(LoanData.Debt_To_Income_Ratio.mean(), inplace=True)\n",
    "LoanData.Revoling_CREDIT_Balance.fillna(LoanData.Revoling_CREDIT_Balance.mean(), inplace=True)\n",
    "LoanData.Monthly_Income.fillna(LoanData.Monthly_Income.mean(), inplace=True)"
   ]
  },
  {
   "cell_type": "code",
   "execution_count": 18,
   "id": "1402b53a",
   "metadata": {},
   "outputs": [
    {
     "name": "stdout",
     "output_type": "stream",
     "text": [
      "<class 'pandas.core.frame.DataFrame'>\n",
      "RangeIndex: 2500 entries, 0 to 2499\n",
      "Data columns (total 14 columns):\n",
      " #   Column                          Non-Null Count  Dtype  \n",
      "---  ------                          --------------  -----  \n",
      " 0   Amount_Requested                2500 non-null   float64\n",
      " 1   Amount_Funded_By_Investors      2500 non-null   float64\n",
      " 2   Interest_Rate                   2500 non-null   float64\n",
      " 3   Loan_Length                     2500 non-null   object \n",
      " 4   Loan_Purpose                    2500 non-null   object \n",
      " 5   Debt_To_Income_Ratio            2500 non-null   float64\n",
      " 6   State                           2500 non-null   object \n",
      " 7   Home_Ownership                  2499 non-null   object \n",
      " 8   Monthly_Income                  2500 non-null   float64\n",
      " 9   FICO_Range                      2498 non-null   object \n",
      " 10  Open_CREDIT_Lines               2497 non-null   float64\n",
      " 11  Revoling_CREDIT_Balance         2500 non-null   float64\n",
      " 12  Inquiries_in_the_Last_6_Months  2497 non-null   float64\n",
      " 13  Employment_Length_In_Year       2423 non-null   object \n",
      "dtypes: float64(8), object(6)\n",
      "memory usage: 273.6+ KB\n"
     ]
    }
   ],
   "source": [
    "LoanData.info()"
   ]
  },
  {
   "cell_type": "code",
   "execution_count": 19,
   "id": "993317aa",
   "metadata": {},
   "outputs": [],
   "source": [
    "LoanData.Home_Ownership.fillna(LoanData.Home_Ownership.value_counts().index[0], inplace=True)\n",
    "LoanData.FICO_Range.fillna(LoanData.FICO_Range.value_counts().index[0], inplace=True)\n",
    "LoanData.Open_CREDIT_Lines.fillna(LoanData.Open_CREDIT_Lines.value_counts().index[0], inplace=True)\n",
    "LoanData.Inquiries_in_the_Last_6_Months.fillna(LoanData.Inquiries_in_the_Last_6_Months.value_counts().index[0], inplace=True)\n",
    "LoanData.Loan_Length.fillna(LoanData.Loan_Length.value_counts().index[0], inplace=True)\n",
    "LoanData.Employment_Length_In_Year.fillna(LoanData.Employment_Length_In_Year.value_counts().index[0], inplace=True)"
   ]
  },
  {
   "cell_type": "code",
   "execution_count": 20,
   "id": "390b5210",
   "metadata": {},
   "outputs": [
    {
     "name": "stdout",
     "output_type": "stream",
     "text": [
      "<class 'pandas.core.frame.DataFrame'>\n",
      "RangeIndex: 2500 entries, 0 to 2499\n",
      "Data columns (total 14 columns):\n",
      " #   Column                          Non-Null Count  Dtype  \n",
      "---  ------                          --------------  -----  \n",
      " 0   Amount_Requested                2500 non-null   float64\n",
      " 1   Amount_Funded_By_Investors      2500 non-null   float64\n",
      " 2   Interest_Rate                   2500 non-null   float64\n",
      " 3   Loan_Length                     2500 non-null   object \n",
      " 4   Loan_Purpose                    2500 non-null   object \n",
      " 5   Debt_To_Income_Ratio            2500 non-null   float64\n",
      " 6   State                           2500 non-null   object \n",
      " 7   Home_Ownership                  2500 non-null   object \n",
      " 8   Monthly_Income                  2500 non-null   float64\n",
      " 9   FICO_Range                      2500 non-null   object \n",
      " 10  Open_CREDIT_Lines               2500 non-null   float64\n",
      " 11  Revoling_CREDIT_Balance         2500 non-null   float64\n",
      " 12  Inquiries_in_the_Last_6_Months  2500 non-null   float64\n",
      " 13  Employment_Length_In_Year       2500 non-null   object \n",
      "dtypes: float64(8), object(6)\n",
      "memory usage: 273.6+ KB\n"
     ]
    }
   ],
   "source": [
    "LoanData.info()"
   ]
  },
  {
   "cell_type": "code",
   "execution_count": 21,
   "id": "a68fa2b6",
   "metadata": {},
   "outputs": [],
   "source": [
    "LoanData['FICO_Score']=((LoanData.FICO_Range.str[0:3].astype(int))+(LoanData.FICO_Range.str[4:].astype(int)))/2"
   ]
  },
  {
   "cell_type": "code",
   "execution_count": 22,
   "id": "4e06bcfc",
   "metadata": {},
   "outputs": [
    {
     "data": {
      "text/html": [
       "<div>\n",
       "<style scoped>\n",
       "    .dataframe tbody tr th:only-of-type {\n",
       "        vertical-align: middle;\n",
       "    }\n",
       "\n",
       "    .dataframe tbody tr th {\n",
       "        vertical-align: top;\n",
       "    }\n",
       "\n",
       "    .dataframe thead th {\n",
       "        text-align: right;\n",
       "    }\n",
       "</style>\n",
       "<table border=\"1\" class=\"dataframe\">\n",
       "  <thead>\n",
       "    <tr style=\"text-align: right;\">\n",
       "      <th></th>\n",
       "      <th>Amount_Requested</th>\n",
       "      <th>Amount_Funded_By_Investors</th>\n",
       "      <th>Interest_Rate</th>\n",
       "      <th>Loan_Length</th>\n",
       "      <th>Loan_Purpose</th>\n",
       "      <th>Debt_To_Income_Ratio</th>\n",
       "      <th>State</th>\n",
       "      <th>Home_Ownership</th>\n",
       "      <th>Monthly_Income</th>\n",
       "      <th>FICO_Range</th>\n",
       "      <th>Open_CREDIT_Lines</th>\n",
       "      <th>Revoling_CREDIT_Balance</th>\n",
       "      <th>Inquiries_in_the_Last_6_Months</th>\n",
       "      <th>Employment_Length_In_Year</th>\n",
       "      <th>FICO_Score</th>\n",
       "    </tr>\n",
       "  </thead>\n",
       "  <tbody>\n",
       "    <tr>\n",
       "      <th>0</th>\n",
       "      <td>20000.0</td>\n",
       "      <td>20000.0</td>\n",
       "      <td>8.90</td>\n",
       "      <td>36 months</td>\n",
       "      <td>debt_consolidation</td>\n",
       "      <td>14.90</td>\n",
       "      <td>SC</td>\n",
       "      <td>MORTGAGE</td>\n",
       "      <td>6541.67</td>\n",
       "      <td>735-739</td>\n",
       "      <td>14.0</td>\n",
       "      <td>14272.0</td>\n",
       "      <td>2.0</td>\n",
       "      <td>1</td>\n",
       "      <td>737.0</td>\n",
       "    </tr>\n",
       "    <tr>\n",
       "      <th>1</th>\n",
       "      <td>19200.0</td>\n",
       "      <td>19200.0</td>\n",
       "      <td>12.12</td>\n",
       "      <td>36 months</td>\n",
       "      <td>debt_consolidation</td>\n",
       "      <td>28.36</td>\n",
       "      <td>TX</td>\n",
       "      <td>MORTGAGE</td>\n",
       "      <td>4583.33</td>\n",
       "      <td>715-719</td>\n",
       "      <td>12.0</td>\n",
       "      <td>11140.0</td>\n",
       "      <td>1.0</td>\n",
       "      <td>2</td>\n",
       "      <td>717.0</td>\n",
       "    </tr>\n",
       "    <tr>\n",
       "      <th>2</th>\n",
       "      <td>35000.0</td>\n",
       "      <td>35000.0</td>\n",
       "      <td>21.98</td>\n",
       "      <td>60 months</td>\n",
       "      <td>debt_consolidation</td>\n",
       "      <td>23.81</td>\n",
       "      <td>CA</td>\n",
       "      <td>MORTGAGE</td>\n",
       "      <td>11500.00</td>\n",
       "      <td>690-694</td>\n",
       "      <td>14.0</td>\n",
       "      <td>21977.0</td>\n",
       "      <td>1.0</td>\n",
       "      <td>2</td>\n",
       "      <td>692.0</td>\n",
       "    </tr>\n",
       "    <tr>\n",
       "      <th>3</th>\n",
       "      <td>10000.0</td>\n",
       "      <td>9975.0</td>\n",
       "      <td>9.99</td>\n",
       "      <td>36 months</td>\n",
       "      <td>debt_consolidation</td>\n",
       "      <td>14.30</td>\n",
       "      <td>KS</td>\n",
       "      <td>MORTGAGE</td>\n",
       "      <td>3833.33</td>\n",
       "      <td>695-699</td>\n",
       "      <td>10.0</td>\n",
       "      <td>9346.0</td>\n",
       "      <td>0.0</td>\n",
       "      <td>5</td>\n",
       "      <td>697.0</td>\n",
       "    </tr>\n",
       "    <tr>\n",
       "      <th>4</th>\n",
       "      <td>12000.0</td>\n",
       "      <td>12000.0</td>\n",
       "      <td>11.71</td>\n",
       "      <td>36 months</td>\n",
       "      <td>credit_card</td>\n",
       "      <td>18.78</td>\n",
       "      <td>NJ</td>\n",
       "      <td>RENT</td>\n",
       "      <td>3195.00</td>\n",
       "      <td>695-699</td>\n",
       "      <td>11.0</td>\n",
       "      <td>14469.0</td>\n",
       "      <td>0.0</td>\n",
       "      <td>9</td>\n",
       "      <td>697.0</td>\n",
       "    </tr>\n",
       "  </tbody>\n",
       "</table>\n",
       "</div>"
      ],
      "text/plain": [
       "   Amount_Requested  Amount_Funded_By_Investors  Interest_Rate Loan_Length  \\\n",
       "0           20000.0                     20000.0           8.90   36 months   \n",
       "1           19200.0                     19200.0          12.12   36 months   \n",
       "2           35000.0                     35000.0          21.98   60 months   \n",
       "3           10000.0                      9975.0           9.99   36 months   \n",
       "4           12000.0                     12000.0          11.71   36 months   \n",
       "\n",
       "         Loan_Purpose  Debt_To_Income_Ratio State Home_Ownership  \\\n",
       "0  debt_consolidation                 14.90    SC       MORTGAGE   \n",
       "1  debt_consolidation                 28.36    TX       MORTGAGE   \n",
       "2  debt_consolidation                 23.81    CA       MORTGAGE   \n",
       "3  debt_consolidation                 14.30    KS       MORTGAGE   \n",
       "4         credit_card                 18.78    NJ           RENT   \n",
       "\n",
       "   Monthly_Income FICO_Range  Open_CREDIT_Lines  Revoling_CREDIT_Balance  \\\n",
       "0         6541.67    735-739               14.0                  14272.0   \n",
       "1         4583.33    715-719               12.0                  11140.0   \n",
       "2        11500.00    690-694               14.0                  21977.0   \n",
       "3         3833.33    695-699               10.0                   9346.0   \n",
       "4         3195.00    695-699               11.0                  14469.0   \n",
       "\n",
       "   Inquiries_in_the_Last_6_Months Employment_Length_In_Year  FICO_Score  \n",
       "0                             2.0                        1        737.0  \n",
       "1                             1.0                        2        717.0  \n",
       "2                             1.0                        2        692.0  \n",
       "3                             0.0                        5        697.0  \n",
       "4                             0.0                        9        697.0  "
      ]
     },
     "execution_count": 22,
     "metadata": {},
     "output_type": "execute_result"
    }
   ],
   "source": [
    "LoanData.head()"
   ]
  },
  {
   "cell_type": "markdown",
   "id": "f6a3df7e",
   "metadata": {},
   "source": [
    "### a. Interest rate is varied for different loan amounts (Less interest charged for high loan amounts)"
   ]
  },
  {
   "cell_type": "code",
   "execution_count": 23,
   "id": "184309c5",
   "metadata": {},
   "outputs": [
    {
     "data": {
      "text/html": [
       "<div>\n",
       "<style scoped>\n",
       "    .dataframe tbody tr th:only-of-type {\n",
       "        vertical-align: middle;\n",
       "    }\n",
       "\n",
       "    .dataframe tbody tr th {\n",
       "        vertical-align: top;\n",
       "    }\n",
       "\n",
       "    .dataframe thead th {\n",
       "        text-align: right;\n",
       "    }\n",
       "</style>\n",
       "<table border=\"1\" class=\"dataframe\">\n",
       "  <thead>\n",
       "    <tr style=\"text-align: right;\">\n",
       "      <th></th>\n",
       "      <th>Amount_Requested</th>\n",
       "      <th>Amount_Funded_By_Investors</th>\n",
       "      <th>Interest_Rate</th>\n",
       "      <th>Loan_Length</th>\n",
       "      <th>Loan_Purpose</th>\n",
       "      <th>Debt_To_Income_Ratio</th>\n",
       "      <th>State</th>\n",
       "      <th>Home_Ownership</th>\n",
       "      <th>Monthly_Income</th>\n",
       "      <th>FICO_Range</th>\n",
       "      <th>Open_CREDIT_Lines</th>\n",
       "      <th>Revoling_CREDIT_Balance</th>\n",
       "      <th>Inquiries_in_the_Last_6_Months</th>\n",
       "      <th>Employment_Length_In_Year</th>\n",
       "      <th>FICO_Score</th>\n",
       "    </tr>\n",
       "  </thead>\n",
       "  <tbody>\n",
       "    <tr>\n",
       "      <th>0</th>\n",
       "      <td>20000.0</td>\n",
       "      <td>20000.0</td>\n",
       "      <td>8.90</td>\n",
       "      <td>36 months</td>\n",
       "      <td>debt_consolidation</td>\n",
       "      <td>14.90</td>\n",
       "      <td>SC</td>\n",
       "      <td>MORTGAGE</td>\n",
       "      <td>6541.67</td>\n",
       "      <td>735-739</td>\n",
       "      <td>14.0</td>\n",
       "      <td>14272.0</td>\n",
       "      <td>2.0</td>\n",
       "      <td>1</td>\n",
       "      <td>737.0</td>\n",
       "    </tr>\n",
       "    <tr>\n",
       "      <th>1</th>\n",
       "      <td>19200.0</td>\n",
       "      <td>19200.0</td>\n",
       "      <td>12.12</td>\n",
       "      <td>36 months</td>\n",
       "      <td>debt_consolidation</td>\n",
       "      <td>28.36</td>\n",
       "      <td>TX</td>\n",
       "      <td>MORTGAGE</td>\n",
       "      <td>4583.33</td>\n",
       "      <td>715-719</td>\n",
       "      <td>12.0</td>\n",
       "      <td>11140.0</td>\n",
       "      <td>1.0</td>\n",
       "      <td>2</td>\n",
       "      <td>717.0</td>\n",
       "    </tr>\n",
       "    <tr>\n",
       "      <th>2</th>\n",
       "      <td>35000.0</td>\n",
       "      <td>35000.0</td>\n",
       "      <td>21.98</td>\n",
       "      <td>60 months</td>\n",
       "      <td>debt_consolidation</td>\n",
       "      <td>23.81</td>\n",
       "      <td>CA</td>\n",
       "      <td>MORTGAGE</td>\n",
       "      <td>11500.00</td>\n",
       "      <td>690-694</td>\n",
       "      <td>14.0</td>\n",
       "      <td>21977.0</td>\n",
       "      <td>1.0</td>\n",
       "      <td>2</td>\n",
       "      <td>692.0</td>\n",
       "    </tr>\n",
       "  </tbody>\n",
       "</table>\n",
       "</div>"
      ],
      "text/plain": [
       "   Amount_Requested  Amount_Funded_By_Investors  Interest_Rate Loan_Length  \\\n",
       "0           20000.0                     20000.0           8.90   36 months   \n",
       "1           19200.0                     19200.0          12.12   36 months   \n",
       "2           35000.0                     35000.0          21.98   60 months   \n",
       "\n",
       "         Loan_Purpose  Debt_To_Income_Ratio State Home_Ownership  \\\n",
       "0  debt_consolidation                 14.90    SC       MORTGAGE   \n",
       "1  debt_consolidation                 28.36    TX       MORTGAGE   \n",
       "2  debt_consolidation                 23.81    CA       MORTGAGE   \n",
       "\n",
       "   Monthly_Income FICO_Range  Open_CREDIT_Lines  Revoling_CREDIT_Balance  \\\n",
       "0         6541.67    735-739               14.0                  14272.0   \n",
       "1         4583.33    715-719               12.0                  11140.0   \n",
       "2        11500.00    690-694               14.0                  21977.0   \n",
       "\n",
       "   Inquiries_in_the_Last_6_Months Employment_Length_In_Year  FICO_Score  \n",
       "0                             2.0                        1        737.0  \n",
       "1                             1.0                        2        717.0  \n",
       "2                             1.0                        2        692.0  "
      ]
     },
     "execution_count": 23,
     "metadata": {},
     "output_type": "execute_result"
    }
   ],
   "source": [
    "LoanData.head(3)"
   ]
  },
  {
   "cell_type": "markdown",
   "id": "456ce6a2",
   "metadata": {},
   "source": [
    "###### Step 1 :Define Null Hypothesis H0: \n",
    "There is no relation between Interest Rate and Amount Funded By Investors"
   ]
  },
  {
   "cell_type": "markdown",
   "id": "867da446",
   "metadata": {},
   "source": [
    "###### Step 2 :Define Alternate Hypothesis Ha: \n",
    "There is a relation between Interest Rate and Amount Funded by Investors"
   ]
  },
  {
   "cell_type": "markdown",
   "id": "dc538bcd",
   "metadata": {},
   "source": [
    "###### Step 3 :Define Confident Interval and P value: \n",
    "    CI= 95%\n",
    "    Pvalue=0.05"
   ]
  },
  {
   "cell_type": "markdown",
   "id": "9886cc7c",
   "metadata": {},
   "source": [
    "###### Step 4 :Perform Test"
   ]
  },
  {
   "cell_type": "code",
   "execution_count": 24,
   "id": "66752252",
   "metadata": {},
   "outputs": [],
   "source": [
    "statistic, p_value=stats.pearsonr(LoanData.Amount_Requested, LoanData.Interest_Rate)"
   ]
  },
  {
   "cell_type": "code",
   "execution_count": 25,
   "id": "2986b676",
   "metadata": {},
   "outputs": [
    {
     "data": {
      "text/plain": [
       "0.33244640596656916"
      ]
     },
     "execution_count": 25,
     "metadata": {},
     "output_type": "execute_result"
    }
   ],
   "source": [
    "statistic"
   ]
  },
  {
   "cell_type": "code",
   "execution_count": 26,
   "id": "38d633d6",
   "metadata": {},
   "outputs": [
    {
     "data": {
      "text/plain": [
       "1.4148683739770683e-65"
      ]
     },
     "execution_count": 26,
     "metadata": {},
     "output_type": "execute_result"
    }
   ],
   "source": [
    "p_value"
   ]
  },
  {
   "cell_type": "markdown",
   "id": "21df11e6",
   "metadata": {},
   "source": [
    "##### Step 5: Rejection Rule:\n",
    "\n",
    "Near to weak direct relationship between interest rate and Loan amount"
   ]
  },
  {
   "cell_type": "code",
   "execution_count": 27,
   "id": "3913da1b",
   "metadata": {},
   "outputs": [
    {
     "name": "stdout",
     "output_type": "stream",
     "text": [
      "We reject Null Hypothesis\n"
     ]
    }
   ],
   "source": [
    "if p_value<0.05:\n",
    "    print(\"We reject Null Hypothesis\")\n",
    "else:\n",
    "    print(\"We fail to reject Null Hypothesis\")"
   ]
  },
  {
   "cell_type": "markdown",
   "id": "d6d7b2fa",
   "metadata": {},
   "source": [
    "##### Step 6: Business Conclusion:\n",
    "There is a relation between Interest and Amount funded but very weak. With 95 percent confidence interval, we can say that Interest rate is varied for different loan amounts"
   ]
  },
  {
   "cell_type": "markdown",
   "id": "3eda8413",
   "metadata": {},
   "source": [
    "### b. Loan length is directly effecting intrest rate"
   ]
  },
  {
   "cell_type": "markdown",
   "id": "402de83d",
   "metadata": {},
   "source": [
    "##### Step 1 :Define Null Hypothesis H0:\n",
    "There is no relation between Interest rate and Loan length."
   ]
  },
  {
   "cell_type": "markdown",
   "id": "416840ae",
   "metadata": {},
   "source": [
    "###### Step 2:Define Alternate Hypothesis Ha:\n",
    "There is relation between Interest rate and Loan length."
   ]
  },
  {
   "cell_type": "markdown",
   "id": "e1d435cf",
   "metadata": {},
   "source": [
    "##### Step 3:Define Confident Interval and pvalue:\n",
    "\n",
    "    CI=95%\n",
    "    p value=0.05"
   ]
  },
  {
   "cell_type": "markdown",
   "id": "4424f43c",
   "metadata": {},
   "source": [
    "##### Step 4: Perform Test"
   ]
  },
  {
   "cell_type": "code",
   "execution_count": 28,
   "id": "6f2a2906",
   "metadata": {},
   "outputs": [
    {
     "data": {
      "text/plain": [
       "36 months    1952\n",
       "60 months     548\n",
       "Name: Loan_Length, dtype: int64"
      ]
     },
     "execution_count": 28,
     "metadata": {},
     "output_type": "execute_result"
    }
   ],
   "source": [
    "LoanData.Loan_Length.value_counts()"
   ]
  },
  {
   "cell_type": "code",
   "execution_count": 29,
   "id": "74a3dcc3",
   "metadata": {},
   "outputs": [],
   "source": [
    "interest='Interest_Rate'\n",
    "Loan_length_36_months=LoanData.loc[LoanData.Loan_Length =='36 months', interest]\n",
    "Loan_length_60_months=LoanData.loc[LoanData.Loan_Length =='60 months', interest]"
   ]
  },
  {
   "cell_type": "code",
   "execution_count": 30,
   "id": "485fee09",
   "metadata": {},
   "outputs": [],
   "source": [
    "t_score, p_value=stats.ttest_ind(Loan_length_60_months, Loan_length_36_months)"
   ]
  },
  {
   "cell_type": "code",
   "execution_count": 31,
   "id": "67881aa8",
   "metadata": {},
   "outputs": [
    {
     "name": "stdout",
     "output_type": "stream",
     "text": [
      "t_score is:  23.41049023613487\n",
      "pvalue is : 9.549596064332559e-110\n"
     ]
    }
   ],
   "source": [
    "print(\"t_score is: \", t_score)\n",
    "print(\"pvalue is :\", p_value)"
   ]
  },
  {
   "cell_type": "markdown",
   "id": "b30f8425",
   "metadata": {},
   "source": [
    "##### Step 5: Rejection Rule"
   ]
  },
  {
   "cell_type": "code",
   "execution_count": 32,
   "id": "7d53e0da",
   "metadata": {},
   "outputs": [
    {
     "name": "stdout",
     "output_type": "stream",
     "text": [
      "We reject Null Hypothesis\n"
     ]
    }
   ],
   "source": [
    "if p_value<0.05:\n",
    "    print(\"We reject Null Hypothesis\")\n",
    "else:\n",
    "    print(\"We fail to reject to Null Hypothesis\")"
   ]
  },
  {
   "cell_type": "markdown",
   "id": "27ae4924",
   "metadata": {},
   "source": [
    "##### Step 6: Business Conclusion\n",
    "There is relation between Interest rate and Loan length. Loan length iThe relation is between weak to intermediate."
   ]
  },
  {
   "cell_type": "markdown",
   "id": "c1949361",
   "metadata": {},
   "source": [
    "### c. Interest rate varies for different purpose of loans"
   ]
  },
  {
   "cell_type": "code",
   "execution_count": 33,
   "id": "998aa8df",
   "metadata": {},
   "outputs": [
    {
     "data": {
      "text/plain": [
       "14"
      ]
     },
     "execution_count": 33,
     "metadata": {},
     "output_type": "execute_result"
    }
   ],
   "source": [
    "LoanData.Loan_Purpose.nunique()"
   ]
  },
  {
   "cell_type": "code",
   "execution_count": 34,
   "id": "00315d2f",
   "metadata": {},
   "outputs": [
    {
     "data": {
      "text/plain": [
       "debt_consolidation    1307\n",
       "credit_card            444\n",
       "other                  201\n",
       "home_improvement       152\n",
       "major_purchase         101\n",
       "small_business          87\n",
       "car                     50\n",
       "wedding                 39\n",
       "medical                 30\n",
       "moving                  29\n",
       "vacation                21\n",
       "house                   20\n",
       "educational             15\n",
       "renewable_energy         4\n",
       "Name: Loan_Purpose, dtype: int64"
      ]
     },
     "execution_count": 34,
     "metadata": {},
     "output_type": "execute_result"
    }
   ],
   "source": [
    "LoanData.Loan_Purpose.value_counts()"
   ]
  },
  {
   "cell_type": "code",
   "execution_count": 35,
   "id": "63f964f8",
   "metadata": {},
   "outputs": [
    {
     "name": "stdout",
     "output_type": "stream",
     "text": [
      "Mean of debt_consolidation_usage =  13.58691660290742\n",
      "Mean of credit_card_usage =  13.05068781151047\n",
      "Mean of other_usage =  13.15955223880597\n",
      "Mean of home_improvement_usage =  11.594276315789473\n",
      "Mean of major_purchase_usage =  10.797821782178216\n",
      "Mean of small_business_usage =  12.83919540229885\n",
      "Mean of car_usage =  11.113000000000001\n",
      "Mean of wedding_usage =  12.073215084888425\n",
      "Mean of medical_usage =  11.649666666666667\n",
      "Mean of moving_usage =  13.621034482758622\n",
      "Mean of vacation_usage =  11.966190476190476\n",
      "Mean of house_usage =  13.447999999999999\n",
      "Mean of educational_usage =  11.007333333333332\n",
      "Mean of renewable_energy_usage =  9.8775\n"
     ]
    }
   ],
   "source": [
    "###### Segregating the data on the basis of segments:\n",
    "\n",
    "usage = 'Interest_Rate'\n",
    "\n",
    "debt_consolidation_usage = LoanData.loc[LoanData.Loan_Purpose == 'debt_consolidation' , usage]\n",
    "credit_card_usage = LoanData.loc[LoanData.Loan_Purpose == 'credit_card', usage]\n",
    "other_usage = LoanData.loc[LoanData.Loan_Purpose == 'other', usage]\n",
    "home_improvement_usage = LoanData.loc[LoanData.Loan_Purpose == 'home_improvement', usage]\n",
    "major_purchase_usage = LoanData.loc[LoanData.Loan_Purpose == 'major_purchase', usage]\n",
    "small_business_usage = LoanData.loc[LoanData.Loan_Purpose == 'small_business', usage]\n",
    "car_usage = LoanData.loc[LoanData.Loan_Purpose == 'car', usage]\n",
    "wedding_usage = LoanData.loc[LoanData.Loan_Purpose == 'wedding', usage]\n",
    "medical_usage = LoanData.loc[LoanData.Loan_Purpose == 'medical', usage]\n",
    "moving_usage = LoanData.loc[LoanData.Loan_Purpose == 'moving', usage]\n",
    "vacation_usage = LoanData.loc[LoanData.Loan_Purpose == 'vacation', usage]\n",
    "house_usage = LoanData.loc[LoanData.Loan_Purpose == 'house', usage]\n",
    "educational_usage = LoanData.loc[LoanData.Loan_Purpose == 'educational', usage]\n",
    "renewable_energy_usage = LoanData.loc[LoanData.Loan_Purpose == 'renewable_energy', usage]\n",
    "\n",
    "\n",
    "print(\"Mean of debt_consolidation_usage = \", debt_consolidation_usage.mean())\n",
    "print(\"Mean of credit_card_usage = \", credit_card_usage.mean())\n",
    "print(\"Mean of other_usage = \", other_usage.mean())\n",
    "print(\"Mean of home_improvement_usage = \", home_improvement_usage.mean())\n",
    "print(\"Mean of major_purchase_usage = \", major_purchase_usage.mean())\n",
    "print(\"Mean of small_business_usage = \", small_business_usage.mean())\n",
    "print(\"Mean of car_usage = \", car_usage.mean())\n",
    "print(\"Mean of wedding_usage = \", wedding_usage.mean())\n",
    "print(\"Mean of medical_usage = \", medical_usage.mean())\n",
    "print(\"Mean of moving_usage = \", moving_usage.mean())\n",
    "print(\"Mean of vacation_usage = \", vacation_usage.mean())\n",
    "print(\"Mean of house_usage = \", house_usage.mean())\n",
    "print(\"Mean of educational_usage = \", educational_usage.mean())\n",
    "print(\"Mean of renewable_energy_usage = \", renewable_energy_usage.mean())"
   ]
  },
  {
   "cell_type": "markdown",
   "id": "e85a3b64",
   "metadata": {},
   "source": [
    "##### Step 1 :Define Null Hypothesis H0:"
   ]
  },
  {
   "cell_type": "markdown",
   "id": "9a297d6b",
   "metadata": {},
   "source": [
    "All the sample means are from the same population"
   ]
  },
  {
   "cell_type": "markdown",
   "id": "7e61fcb7",
   "metadata": {},
   "source": [
    "##### Step 2 :Define Alternate Hypothesis Ha:"
   ]
  },
  {
   "cell_type": "markdown",
   "id": "13a3a14d",
   "metadata": {},
   "source": [
    "All the sample means are from the different population"
   ]
  },
  {
   "cell_type": "markdown",
   "id": "62550404",
   "metadata": {},
   "source": [
    "##### Step 3 :Define Confidence Interval and pvalue"
   ]
  },
  {
   "cell_type": "markdown",
   "id": "90acb43c",
   "metadata": {},
   "source": [
    "    CI=95%\n",
    "    pvalue=0.05"
   ]
  },
  {
   "cell_type": "markdown",
   "id": "c9cf8b49",
   "metadata": {},
   "source": [
    "##### Step 4: Perform Test"
   ]
  },
  {
   "cell_type": "code",
   "execution_count": 36,
   "id": "6821b179",
   "metadata": {},
   "outputs": [
    {
     "name": "stdout",
     "output_type": "stream",
     "text": [
      "f_score is: 7.482638784097436 and pvalue is: 1.1599665535989115e-14\n"
     ]
    }
   ],
   "source": [
    "f_score, p_value=stats.f_oneway(debt_consolidation_usage, credit_card_usage, other_usage, home_improvement_usage, major_purchase_usage, small_business_usage, car_usage, wedding_usage, medical_usage, moving_usage, vacation_usage, house_usage, educational_usage, renewable_energy_usage)\n",
    "print(\"f_score is: {} and pvalue is: {}\".format(f_score, p_value))"
   ]
  },
  {
   "cell_type": "markdown",
   "id": "5ac20a6a",
   "metadata": {},
   "source": [
    "##### Step 5: Rejectino Rule"
   ]
  },
  {
   "cell_type": "code",
   "execution_count": 37,
   "id": "7db84410",
   "metadata": {},
   "outputs": [
    {
     "name": "stdout",
     "output_type": "stream",
     "text": [
      "We reject Null Hypothesis\n"
     ]
    }
   ],
   "source": [
    "if p_value<0.05:\n",
    "    print(\"We reject Null Hypothesis\")\n",
    "else:\n",
    "    print(\"We fail to reject Null Hypothesis\")"
   ]
  },
  {
   "cell_type": "markdown",
   "id": "45f186f9",
   "metadata": {},
   "source": [
    "##### Step 6: Business conclusion"
   ]
  },
  {
   "cell_type": "markdown",
   "id": "8901e8fd",
   "metadata": {},
   "source": [
    "Different Loan purpose have different Interest Rate. With 95 percent confidence interval,we can say that Interest rate varies for different purpose of loans."
   ]
  },
  {
   "cell_type": "markdown",
   "id": "246c463f",
   "metadata": {},
   "source": [
    "### d. There is relationship between FICO scores and Home Ownership. It means that, People with owning home will have high FICO scores.\n"
   ]
  },
  {
   "cell_type": "markdown",
   "id": "6b111377",
   "metadata": {},
   "source": [
    "##### Step 1: Define Null Hypothesis H0:\n",
    "\n",
    "FICO scores and Home Ownership are independent"
   ]
  },
  {
   "cell_type": "markdown",
   "id": "477fcaf1",
   "metadata": {},
   "source": [
    "##### Step 2: Define Alternate Hypothesis Ha:\n",
    "\n",
    "FICO scores and Home Ownership are dependent"
   ]
  },
  {
   "cell_type": "markdown",
   "id": "c88ac9cc",
   "metadata": {},
   "source": [
    "##### Step 3: Define Confident Interval and pvalue:\n",
    "    CI=95%\n",
    "    pvalue=0.05"
   ]
  },
  {
   "cell_type": "markdown",
   "id": "0abde695",
   "metadata": {},
   "source": [
    "##### Step 4: Perform Test"
   ]
  },
  {
   "cell_type": "code",
   "execution_count": 38,
   "id": "364f03d9",
   "metadata": {},
   "outputs": [
    {
     "data": {
      "text/plain": [
       "MORTGAGE    1148\n",
       "RENT        1146\n",
       "OWN          200\n",
       "OTHER          5\n",
       "NONE           1\n",
       "Name: Home_Ownership, dtype: int64"
      ]
     },
     "execution_count": 38,
     "metadata": {},
     "output_type": "execute_result"
    }
   ],
   "source": [
    "LoanData.Home_Ownership.value_counts()"
   ]
  },
  {
   "cell_type": "code",
   "execution_count": 39,
   "id": "38c531c9",
   "metadata": {},
   "outputs": [],
   "source": [
    "FICO_Score='FICO_Score'\n",
    "\n",
    "MORTGAGE=LoanData.loc[LoanData.Home_Ownership=='MORTGAGE', FICO_Score]\n",
    "RENT=LoanData.loc[LoanData.Home_Ownership=='RENT', FICO_Score]\n",
    "OWN=LoanData.loc[LoanData.Home_Ownership=='OWN', FICO_Score]  \n",
    "OTHER=LoanData.loc[LoanData.Home_Ownership=='OTHER',FICO_Score]"
   ]
  },
  {
   "cell_type": "code",
   "execution_count": 40,
   "id": "640d23e3",
   "metadata": {},
   "outputs": [
    {
     "data": {
      "text/plain": [
       "F_onewayResult(statistic=23.29739165105827, pvalue=7.180580645216916e-15)"
      ]
     },
     "execution_count": 40,
     "metadata": {},
     "output_type": "execute_result"
    }
   ],
   "source": [
    "stats.f_oneway(MORTGAGE, RENT, OWN, OTHER)"
   ]
  },
  {
   "cell_type": "markdown",
   "id": "3336e8ec",
   "metadata": {},
   "source": [
    "##### Step 5: Rejection Rule"
   ]
  },
  {
   "cell_type": "code",
   "execution_count": 41,
   "id": "92cd0180",
   "metadata": {},
   "outputs": [
    {
     "name": "stdout",
     "output_type": "stream",
     "text": [
      "We reject Null Hypothesis\n"
     ]
    }
   ],
   "source": [
    "if p_value<0.05:\n",
    "    print(\"We reject Null Hypothesis\")\n",
    "else:\n",
    "    print(\"We fail to reject Null Hypothesis\")"
   ]
  },
  {
   "cell_type": "markdown",
   "id": "34972c09",
   "metadata": {},
   "source": [
    "###### Business Conclusion:\n",
    "\n",
    "There is relationship between FICO scores and Home Ownership. FICO Score and Home Onwership are dependent"
   ]
  },
  {
   "cell_type": "markdown",
   "id": "e400512f",
   "metadata": {},
   "source": [
    "### Business Problem 2: \n",
    "\n",
    "Background: In a small manufacturing company, each customer order requires a unique price quote, making the pricing process intricate and dependent on various factors. Concerned about complexity and potential price variability, the sales department manager initiated an improvement study. The team investigated whether pricing experts Mary and Barry, who independently provided quotes for twelve randomly selected orders, exhibit statistically significant differences in their average price quotes."
   ]
  },
  {
   "cell_type": "markdown",
   "id": "4e4dc766",
   "metadata": {},
   "source": [
    "#### Data: \n",
    "\n",
    "The data set \"Price_Quotes.csv\" contains the order number, 1 through 12, and the price quotes by Mary \n",
    "and Barry for each order. Each row in the data set is the same order. Thus, Mary and \n",
    "Barry produced quotes for the same orders."
   ]
  },
  {
   "cell_type": "code",
   "execution_count": 42,
   "id": "5e03f3b5",
   "metadata": {},
   "outputs": [],
   "source": [
    "# Requirements Gathering and understanding business: If there is any difference in the average price quotes provided by Mary and Barry"
   ]
  },
  {
   "cell_type": "code",
   "execution_count": 43,
   "id": "cbd92883",
   "metadata": {},
   "outputs": [],
   "source": [
    "#Data Availability\n",
    "price_qoutes=pd.read_csv(\"E:\\CS\\DS360\\DS360-20230716T150307Z-001\\DS360\\Data Science 360\\Data Science 360\\Python\\Basic Statistics - Hypothesis Testing\\Price_Quotes.csv\")"
   ]
  },
  {
   "cell_type": "code",
   "execution_count": 44,
   "id": "1a05a9b9",
   "metadata": {},
   "outputs": [
    {
     "data": {
      "text/html": [
       "<div>\n",
       "<style scoped>\n",
       "    .dataframe tbody tr th:only-of-type {\n",
       "        vertical-align: middle;\n",
       "    }\n",
       "\n",
       "    .dataframe tbody tr th {\n",
       "        vertical-align: top;\n",
       "    }\n",
       "\n",
       "    .dataframe thead th {\n",
       "        text-align: right;\n",
       "    }\n",
       "</style>\n",
       "<table border=\"1\" class=\"dataframe\">\n",
       "  <thead>\n",
       "    <tr style=\"text-align: right;\">\n",
       "      <th></th>\n",
       "      <th>Order_Number</th>\n",
       "      <th>Barry_Price</th>\n",
       "      <th>Mary_Price</th>\n",
       "    </tr>\n",
       "  </thead>\n",
       "  <tbody>\n",
       "    <tr>\n",
       "      <th>0</th>\n",
       "      <td>1</td>\n",
       "      <td>126</td>\n",
       "      <td>114</td>\n",
       "    </tr>\n",
       "    <tr>\n",
       "      <th>1</th>\n",
       "      <td>2</td>\n",
       "      <td>110</td>\n",
       "      <td>118</td>\n",
       "    </tr>\n",
       "    <tr>\n",
       "      <th>2</th>\n",
       "      <td>3</td>\n",
       "      <td>138</td>\n",
       "      <td>114</td>\n",
       "    </tr>\n",
       "    <tr>\n",
       "      <th>3</th>\n",
       "      <td>4</td>\n",
       "      <td>142</td>\n",
       "      <td>111</td>\n",
       "    </tr>\n",
       "    <tr>\n",
       "      <th>4</th>\n",
       "      <td>5</td>\n",
       "      <td>146</td>\n",
       "      <td>129</td>\n",
       "    </tr>\n",
       "    <tr>\n",
       "      <th>5</th>\n",
       "      <td>6</td>\n",
       "      <td>136</td>\n",
       "      <td>119</td>\n",
       "    </tr>\n",
       "    <tr>\n",
       "      <th>6</th>\n",
       "      <td>7</td>\n",
       "      <td>94</td>\n",
       "      <td>97</td>\n",
       "    </tr>\n",
       "    <tr>\n",
       "      <th>7</th>\n",
       "      <td>8</td>\n",
       "      <td>103</td>\n",
       "      <td>104</td>\n",
       "    </tr>\n",
       "    <tr>\n",
       "      <th>8</th>\n",
       "      <td>9</td>\n",
       "      <td>140</td>\n",
       "      <td>127</td>\n",
       "    </tr>\n",
       "    <tr>\n",
       "      <th>9</th>\n",
       "      <td>10</td>\n",
       "      <td>152</td>\n",
       "      <td>133</td>\n",
       "    </tr>\n",
       "    <tr>\n",
       "      <th>10</th>\n",
       "      <td>11</td>\n",
       "      <td>108</td>\n",
       "      <td>103</td>\n",
       "    </tr>\n",
       "    <tr>\n",
       "      <th>11</th>\n",
       "      <td>12</td>\n",
       "      <td>97</td>\n",
       "      <td>108</td>\n",
       "    </tr>\n",
       "  </tbody>\n",
       "</table>\n",
       "</div>"
      ],
      "text/plain": [
       "    Order_Number  Barry_Price  Mary_Price\n",
       "0              1          126         114\n",
       "1              2          110         118\n",
       "2              3          138         114\n",
       "3              4          142         111\n",
       "4              5          146         129\n",
       "5              6          136         119\n",
       "6              7           94          97\n",
       "7              8          103         104\n",
       "8              9          140         127\n",
       "9             10          152         133\n",
       "10            11          108         103\n",
       "11            12           97         108"
      ]
     },
     "execution_count": 44,
     "metadata": {},
     "output_type": "execute_result"
    }
   ],
   "source": [
    "price_qoutes"
   ]
  },
  {
   "cell_type": "code",
   "execution_count": 45,
   "id": "fcb51180",
   "metadata": {},
   "outputs": [
    {
     "name": "stdout",
     "output_type": "stream",
     "text": [
      "<class 'pandas.core.frame.DataFrame'>\n",
      "RangeIndex: 12 entries, 0 to 11\n",
      "Data columns (total 3 columns):\n",
      " #   Column        Non-Null Count  Dtype\n",
      "---  ------        --------------  -----\n",
      " 0   Order_Number  12 non-null     int64\n",
      " 1   Barry_Price   12 non-null     int64\n",
      " 2   Mary_Price    12 non-null     int64\n",
      "dtypes: int64(3)\n",
      "memory usage: 420.0 bytes\n"
     ]
    }
   ],
   "source": [
    "#EDA\n",
    "\n",
    "price_qoutes.info()"
   ]
  },
  {
   "cell_type": "code",
   "execution_count": 46,
   "id": "be8b8760",
   "metadata": {},
   "outputs": [
    {
     "data": {
      "text/html": [
       "<div>\n",
       "<style scoped>\n",
       "    .dataframe tbody tr th:only-of-type {\n",
       "        vertical-align: middle;\n",
       "    }\n",
       "\n",
       "    .dataframe tbody tr th {\n",
       "        vertical-align: top;\n",
       "    }\n",
       "\n",
       "    .dataframe thead th {\n",
       "        text-align: right;\n",
       "    }\n",
       "</style>\n",
       "<table border=\"1\" class=\"dataframe\">\n",
       "  <thead>\n",
       "    <tr style=\"text-align: right;\">\n",
       "      <th></th>\n",
       "      <th>count</th>\n",
       "      <th>mean</th>\n",
       "      <th>std</th>\n",
       "      <th>min</th>\n",
       "      <th>25%</th>\n",
       "      <th>50%</th>\n",
       "      <th>75%</th>\n",
       "      <th>max</th>\n",
       "    </tr>\n",
       "  </thead>\n",
       "  <tbody>\n",
       "    <tr>\n",
       "      <th>Order_Number</th>\n",
       "      <td>12.0</td>\n",
       "      <td>6.500000</td>\n",
       "      <td>3.605551</td>\n",
       "      <td>1.0</td>\n",
       "      <td>3.75</td>\n",
       "      <td>6.5</td>\n",
       "      <td>9.25</td>\n",
       "      <td>12.0</td>\n",
       "    </tr>\n",
       "    <tr>\n",
       "      <th>Barry_Price</th>\n",
       "      <td>12.0</td>\n",
       "      <td>124.333333</td>\n",
       "      <td>20.698412</td>\n",
       "      <td>94.0</td>\n",
       "      <td>106.75</td>\n",
       "      <td>131.0</td>\n",
       "      <td>140.50</td>\n",
       "      <td>152.0</td>\n",
       "    </tr>\n",
       "    <tr>\n",
       "      <th>Mary_Price</th>\n",
       "      <td>12.0</td>\n",
       "      <td>114.750000</td>\n",
       "      <td>11.054616</td>\n",
       "      <td>97.0</td>\n",
       "      <td>107.00</td>\n",
       "      <td>114.0</td>\n",
       "      <td>121.00</td>\n",
       "      <td>133.0</td>\n",
       "    </tr>\n",
       "  </tbody>\n",
       "</table>\n",
       "</div>"
      ],
      "text/plain": [
       "              count        mean        std   min     25%    50%     75%    max\n",
       "Order_Number   12.0    6.500000   3.605551   1.0    3.75    6.5    9.25   12.0\n",
       "Barry_Price    12.0  124.333333  20.698412  94.0  106.75  131.0  140.50  152.0\n",
       "Mary_Price     12.0  114.750000  11.054616  97.0  107.00  114.0  121.00  133.0"
      ]
     },
     "execution_count": 46,
     "metadata": {},
     "output_type": "execute_result"
    }
   ],
   "source": [
    "price_qoutes.describe().T"
   ]
  },
  {
   "cell_type": "code",
   "execution_count": 47,
   "id": "caa764bf",
   "metadata": {},
   "outputs": [
    {
     "data": {
      "text/plain": [
       "Order_Number    12\n",
       "Barry_Price     12\n",
       "Mary_Price      11\n",
       "dtype: int64"
      ]
     },
     "execution_count": 47,
     "metadata": {},
     "output_type": "execute_result"
    }
   ],
   "source": [
    "price_qoutes.nunique()"
   ]
  },
  {
   "cell_type": "code",
   "execution_count": 48,
   "id": "7a75c2cd",
   "metadata": {},
   "outputs": [],
   "source": [
    "#Hypothesis Testing to know if there is any difference in the average price quotes provided by Mary and Barry"
   ]
  },
  {
   "cell_type": "markdown",
   "id": "d2abc4dd",
   "metadata": {},
   "source": [
    "##### STEP 1: Define Null Hypothesis H0:\n",
    "        \n",
    "        The average price provded by Barry and Mary are same or u1=u2"
   ]
  },
  {
   "cell_type": "markdown",
   "id": "a811520a",
   "metadata": {},
   "source": [
    "##### STEP 2: Define Alternate Hypothesis H0:\n",
    "\n",
    "    The average price provded by Barry and Mary are different or u1=u2"
   ]
  },
  {
   "cell_type": "markdown",
   "id": "d6063297",
   "metadata": {},
   "source": [
    "##### STEP 3: Define Confident Interval and pvalue\n",
    "\n",
    "    CI=95%\n",
    "    pvalue=0.05"
   ]
  },
  {
   "cell_type": "markdown",
   "id": "3c73709a",
   "metadata": {},
   "source": [
    "##### STEP 4: Perform Test:\n",
    "\n",
    "where we have  2 samples to compare, from same object: \"order\" "
   ]
  },
  {
   "cell_type": "code",
   "execution_count": 49,
   "id": "0c88938c",
   "metadata": {},
   "outputs": [
    {
     "name": "stdout",
     "output_type": "stream",
     "text": [
      "t score is:  2.5213765108923494\n",
      "p_value is:  0.02840588045242053\n"
     ]
    }
   ],
   "source": [
    "t_score, p_value=stats.ttest_rel(price_qoutes.Barry_Price, price_qoutes.Mary_Price)\n",
    "print(\"t score is: \", t_score)\n",
    "print(\"p_value is: \", p_value)"
   ]
  },
  {
   "cell_type": "markdown",
   "id": "d81608d3",
   "metadata": {},
   "source": [
    "##### STEP 5: Rejection Rule:"
   ]
  },
  {
   "cell_type": "code",
   "execution_count": 50,
   "id": "b40f2249",
   "metadata": {},
   "outputs": [
    {
     "name": "stdout",
     "output_type": "stream",
     "text": [
      "We reject Null Hypothesis\n"
     ]
    }
   ],
   "source": [
    "if p_value<0.05:\n",
    "    print(\"We reject Null Hypothesis\")\n",
    "else:\n",
    "    print(\"We fail to reject Null Hypothesis\")"
   ]
  },
  {
   "cell_type": "markdown",
   "id": "7f3b8b97",
   "metadata": {},
   "source": [
    "##### STEP 6: Business Conclusion:\n",
    "\n",
    "The average price provided by Barry and Mary for same orders are different."
   ]
  },
  {
   "cell_type": "markdown",
   "id": "f5608692",
   "metadata": {},
   "source": [
    "### Business Problem 3:\n",
    "\n",
    "New Life Residential Treatment Facility serves troubled teenagers from psychiatric hospitals, often facing behavior issues due to past trauma and legal involvement. High employee turnover, driven by low wages, prompted a reengineering program. Changes included shorter shifts, staff involvement, increased budgets, performance evaluations, and higher behavior standards. Our aim is to assess if these changes effectively reduced behavioral problems and staff turnover, focusing on the critical incident rate, including unauthorized departures, property damage, drug use, assaults, and temporary relocations, seeking evidence of improvements post-reengineering."
   ]
  },
  {
   "cell_type": "markdown",
   "id": "37ed912e",
   "metadata": {},
   "source": [
    "<b>Data</b>: The dataset <b><i>\"Price_Quotes.csv\"</i></b> spans 20 months, with the first 13 months occurring before the reengineering phase. It includes the following variables:\n",
    "\n",
    "<b>Reengineer</b>: Indicates whether the month falls before (Prior) or after (Post) the reengineering.</br>\n",
    "<b>EmployeeTurnover</b>: Represents the percentage of employees who resigned during a given month, relative to the total number of employees.</br>\n",
    "<b>TRFF(%)</b>: Denotes the percentage of residents temporarily removed from the facility, relative to the total number of residents.</br>\n",
    "<b>CI (%)</b>: Reflects the percentage of critical incident reports filed in that month, relative to the total number of residents.</br>"
   ]
  },
  {
   "cell_type": "code",
   "execution_count": 51,
   "id": "32b140bd",
   "metadata": {},
   "outputs": [],
   "source": [
    "treatment_facilty=pd.read_csv(\"E:\\\\CS\\DS360\\\\DS360-20230716T150307Z-001\\\\DS360\\\\Data Science 360\\\\Data Science 360\\\\Python\\\\Basic Statistics - Hypothesis Testing\\\\Treatment_Facility.csv\")"
   ]
  },
  {
   "cell_type": "code",
   "execution_count": 52,
   "id": "9b55cbc2",
   "metadata": {},
   "outputs": [
    {
     "data": {
      "text/html": [
       "<div>\n",
       "<style scoped>\n",
       "    .dataframe tbody tr th:only-of-type {\n",
       "        vertical-align: middle;\n",
       "    }\n",
       "\n",
       "    .dataframe tbody tr th {\n",
       "        vertical-align: top;\n",
       "    }\n",
       "\n",
       "    .dataframe thead th {\n",
       "        text-align: right;\n",
       "    }\n",
       "</style>\n",
       "<table border=\"1\" class=\"dataframe\">\n",
       "  <thead>\n",
       "    <tr style=\"text-align: right;\">\n",
       "      <th></th>\n",
       "      <th>Month</th>\n",
       "      <th>Reengineer</th>\n",
       "      <th>Employee_Turnover</th>\n",
       "      <th>VAR4</th>\n",
       "      <th>VAR5</th>\n",
       "    </tr>\n",
       "  </thead>\n",
       "  <tbody>\n",
       "    <tr>\n",
       "      <th>0</th>\n",
       "      <td>1</td>\n",
       "      <td>Prior</td>\n",
       "      <td>0.0000</td>\n",
       "      <td>24.390244</td>\n",
       "      <td>42.682927</td>\n",
       "    </tr>\n",
       "    <tr>\n",
       "      <th>1</th>\n",
       "      <td>2</td>\n",
       "      <td>Prior</td>\n",
       "      <td>6.0606</td>\n",
       "      <td>19.354839</td>\n",
       "      <td>25.806452</td>\n",
       "    </tr>\n",
       "    <tr>\n",
       "      <th>2</th>\n",
       "      <td>3</td>\n",
       "      <td>Prior</td>\n",
       "      <td>12.1212</td>\n",
       "      <td>35.087719</td>\n",
       "      <td>146.198830</td>\n",
       "    </tr>\n",
       "    <tr>\n",
       "      <th>3</th>\n",
       "      <td>4</td>\n",
       "      <td>Prior</td>\n",
       "      <td>3.3333</td>\n",
       "      <td>18.404908</td>\n",
       "      <td>110.429448</td>\n",
       "    </tr>\n",
       "    <tr>\n",
       "      <th>4</th>\n",
       "      <td>5</td>\n",
       "      <td>Prior</td>\n",
       "      <td>12.9032</td>\n",
       "      <td>17.964072</td>\n",
       "      <td>23.952096</td>\n",
       "    </tr>\n",
       "    <tr>\n",
       "      <th>5</th>\n",
       "      <td>6</td>\n",
       "      <td>Prior</td>\n",
       "      <td>9.6774</td>\n",
       "      <td>41.176471</td>\n",
       "      <td>47.058824</td>\n",
       "    </tr>\n",
       "    <tr>\n",
       "      <th>6</th>\n",
       "      <td>7</td>\n",
       "      <td>Prior</td>\n",
       "      <td>11.7647</td>\n",
       "      <td>13.422819</td>\n",
       "      <td>0.000000</td>\n",
       "    </tr>\n",
       "    <tr>\n",
       "      <th>7</th>\n",
       "      <td>8</td>\n",
       "      <td>Prior</td>\n",
       "      <td>11.4286</td>\n",
       "      <td>31.250000</td>\n",
       "      <td>25.000000</td>\n",
       "    </tr>\n",
       "    <tr>\n",
       "      <th>8</th>\n",
       "      <td>9</td>\n",
       "      <td>Prior</td>\n",
       "      <td>23.0769</td>\n",
       "      <td>17.241379</td>\n",
       "      <td>132.183908</td>\n",
       "    </tr>\n",
       "    <tr>\n",
       "      <th>9</th>\n",
       "      <td>10</td>\n",
       "      <td>Prior</td>\n",
       "      <td>15.0000</td>\n",
       "      <td>16.574586</td>\n",
       "      <td>16.574586</td>\n",
       "    </tr>\n",
       "    <tr>\n",
       "      <th>10</th>\n",
       "      <td>11</td>\n",
       "      <td>Prior</td>\n",
       "      <td>10.0000</td>\n",
       "      <td>5.917160</td>\n",
       "      <td>88.757396</td>\n",
       "    </tr>\n",
       "    <tr>\n",
       "      <th>11</th>\n",
       "      <td>12</td>\n",
       "      <td>Prior</td>\n",
       "      <td>26.0870</td>\n",
       "      <td>21.164021</td>\n",
       "      <td>31.746032</td>\n",
       "    </tr>\n",
       "    <tr>\n",
       "      <th>12</th>\n",
       "      <td>13</td>\n",
       "      <td>Prior</td>\n",
       "      <td>11.1111</td>\n",
       "      <td>5.076142</td>\n",
       "      <td>10.152284</td>\n",
       "    </tr>\n",
       "    <tr>\n",
       "      <th>13</th>\n",
       "      <td>14</td>\n",
       "      <td>Post</td>\n",
       "      <td>26.6667</td>\n",
       "      <td>9.708738</td>\n",
       "      <td>29.126214</td>\n",
       "    </tr>\n",
       "    <tr>\n",
       "      <th>14</th>\n",
       "      <td>15</td>\n",
       "      <td>Post</td>\n",
       "      <td>17.9487</td>\n",
       "      <td>4.201681</td>\n",
       "      <td>21.008403</td>\n",
       "    </tr>\n",
       "    <tr>\n",
       "      <th>15</th>\n",
       "      <td>16</td>\n",
       "      <td>Post</td>\n",
       "      <td>12.8205</td>\n",
       "      <td>13.043478</td>\n",
       "      <td>34.782609</td>\n",
       "    </tr>\n",
       "    <tr>\n",
       "      <th>16</th>\n",
       "      <td>17</td>\n",
       "      <td>Post</td>\n",
       "      <td>15.7895</td>\n",
       "      <td>9.950249</td>\n",
       "      <td>19.900498</td>\n",
       "    </tr>\n",
       "    <tr>\n",
       "      <th>17</th>\n",
       "      <td>18</td>\n",
       "      <td>Post</td>\n",
       "      <td>0.0000</td>\n",
       "      <td>9.950249</td>\n",
       "      <td>9.950249</td>\n",
       "    </tr>\n",
       "    <tr>\n",
       "      <th>18</th>\n",
       "      <td>19</td>\n",
       "      <td>Post</td>\n",
       "      <td>30.7692</td>\n",
       "      <td>8.510638</td>\n",
       "      <td>25.531915</td>\n",
       "    </tr>\n",
       "    <tr>\n",
       "      <th>19</th>\n",
       "      <td>20</td>\n",
       "      <td>Post</td>\n",
       "      <td>26.8293</td>\n",
       "      <td>9.259259</td>\n",
       "      <td>23.148148</td>\n",
       "    </tr>\n",
       "  </tbody>\n",
       "</table>\n",
       "</div>"
      ],
      "text/plain": [
       "    Month Reengineer  Employee_Turnover       VAR4        VAR5\n",
       "0       1      Prior             0.0000  24.390244   42.682927\n",
       "1       2      Prior             6.0606  19.354839   25.806452\n",
       "2       3      Prior            12.1212  35.087719  146.198830\n",
       "3       4      Prior             3.3333  18.404908  110.429448\n",
       "4       5      Prior            12.9032  17.964072   23.952096\n",
       "5       6      Prior             9.6774  41.176471   47.058824\n",
       "6       7      Prior            11.7647  13.422819    0.000000\n",
       "7       8      Prior            11.4286  31.250000   25.000000\n",
       "8       9      Prior            23.0769  17.241379  132.183908\n",
       "9      10      Prior            15.0000  16.574586   16.574586\n",
       "10     11      Prior            10.0000   5.917160   88.757396\n",
       "11     12      Prior            26.0870  21.164021   31.746032\n",
       "12     13      Prior            11.1111   5.076142   10.152284\n",
       "13     14       Post            26.6667   9.708738   29.126214\n",
       "14     15       Post            17.9487   4.201681   21.008403\n",
       "15     16       Post            12.8205  13.043478   34.782609\n",
       "16     17       Post            15.7895   9.950249   19.900498\n",
       "17     18       Post             0.0000   9.950249    9.950249\n",
       "18     19       Post            30.7692   8.510638   25.531915\n",
       "19     20       Post            26.8293   9.259259   23.148148"
      ]
     },
     "execution_count": 52,
     "metadata": {},
     "output_type": "execute_result"
    }
   ],
   "source": [
    "treatment_facilty"
   ]
  },
  {
   "cell_type": "code",
   "execution_count": 53,
   "id": "5f1b8bc5",
   "metadata": {},
   "outputs": [],
   "source": [
    "treatment_facilty.rename(columns={'VAR4':'TRFF', 'VAR5':'CI'}, inplace=True)"
   ]
  },
  {
   "cell_type": "code",
   "execution_count": 54,
   "id": "e2f9ce44",
   "metadata": {},
   "outputs": [
    {
     "data": {
      "text/html": [
       "<div>\n",
       "<style scoped>\n",
       "    .dataframe tbody tr th:only-of-type {\n",
       "        vertical-align: middle;\n",
       "    }\n",
       "\n",
       "    .dataframe tbody tr th {\n",
       "        vertical-align: top;\n",
       "    }\n",
       "\n",
       "    .dataframe thead th {\n",
       "        text-align: right;\n",
       "    }\n",
       "</style>\n",
       "<table border=\"1\" class=\"dataframe\">\n",
       "  <thead>\n",
       "    <tr style=\"text-align: right;\">\n",
       "      <th></th>\n",
       "      <th>Month</th>\n",
       "      <th>Reengineer</th>\n",
       "      <th>Employee_Turnover</th>\n",
       "      <th>TRFF</th>\n",
       "      <th>CI</th>\n",
       "    </tr>\n",
       "  </thead>\n",
       "  <tbody>\n",
       "    <tr>\n",
       "      <th>0</th>\n",
       "      <td>1</td>\n",
       "      <td>Prior</td>\n",
       "      <td>0.0000</td>\n",
       "      <td>24.390244</td>\n",
       "      <td>42.682927</td>\n",
       "    </tr>\n",
       "    <tr>\n",
       "      <th>1</th>\n",
       "      <td>2</td>\n",
       "      <td>Prior</td>\n",
       "      <td>6.0606</td>\n",
       "      <td>19.354839</td>\n",
       "      <td>25.806452</td>\n",
       "    </tr>\n",
       "    <tr>\n",
       "      <th>2</th>\n",
       "      <td>3</td>\n",
       "      <td>Prior</td>\n",
       "      <td>12.1212</td>\n",
       "      <td>35.087719</td>\n",
       "      <td>146.198830</td>\n",
       "    </tr>\n",
       "    <tr>\n",
       "      <th>3</th>\n",
       "      <td>4</td>\n",
       "      <td>Prior</td>\n",
       "      <td>3.3333</td>\n",
       "      <td>18.404908</td>\n",
       "      <td>110.429448</td>\n",
       "    </tr>\n",
       "    <tr>\n",
       "      <th>4</th>\n",
       "      <td>5</td>\n",
       "      <td>Prior</td>\n",
       "      <td>12.9032</td>\n",
       "      <td>17.964072</td>\n",
       "      <td>23.952096</td>\n",
       "    </tr>\n",
       "  </tbody>\n",
       "</table>\n",
       "</div>"
      ],
      "text/plain": [
       "   Month Reengineer  Employee_Turnover       TRFF          CI\n",
       "0      1      Prior             0.0000  24.390244   42.682927\n",
       "1      2      Prior             6.0606  19.354839   25.806452\n",
       "2      3      Prior            12.1212  35.087719  146.198830\n",
       "3      4      Prior             3.3333  18.404908  110.429448\n",
       "4      5      Prior            12.9032  17.964072   23.952096"
      ]
     },
     "execution_count": 54,
     "metadata": {},
     "output_type": "execute_result"
    }
   ],
   "source": [
    "treatment_facilty.head(5)"
   ]
  },
  {
   "cell_type": "code",
   "execution_count": 55,
   "id": "d6255a28",
   "metadata": {},
   "outputs": [
    {
     "name": "stdout",
     "output_type": "stream",
     "text": [
      "<class 'pandas.core.frame.DataFrame'>\n",
      "RangeIndex: 20 entries, 0 to 19\n",
      "Data columns (total 5 columns):\n",
      " #   Column             Non-Null Count  Dtype  \n",
      "---  ------             --------------  -----  \n",
      " 0   Month              20 non-null     int64  \n",
      " 1   Reengineer         20 non-null     object \n",
      " 2   Employee_Turnover  20 non-null     float64\n",
      " 3   TRFF               20 non-null     float64\n",
      " 4   CI                 20 non-null     float64\n",
      "dtypes: float64(3), int64(1), object(1)\n",
      "memory usage: 932.0+ bytes\n"
     ]
    }
   ],
   "source": [
    "treatment_facilty.info()"
   ]
  },
  {
   "cell_type": "code",
   "execution_count": 56,
   "id": "5af33516",
   "metadata": {},
   "outputs": [
    {
     "data": {
      "text/plain": [
       "Month                20\n",
       "Reengineer            2\n",
       "Employee_Turnover    19\n",
       "TRFF                 19\n",
       "CI                   20\n",
       "dtype: int64"
      ]
     },
     "execution_count": 56,
     "metadata": {},
     "output_type": "execute_result"
    }
   ],
   "source": [
    "treatment_facilty.nunique()"
   ]
  },
  {
   "cell_type": "markdown",
   "id": "6639e893",
   "metadata": {},
   "source": [
    "Business Problem: \n",
    "\n",
    "    -- Determine what effect, if any, the reengineering effort had on the incidence behavioral problems and staff turnover. \n",
    "       i.e To determine if the reengineering effort changed the critical incidence rate. \n",
    "       \n",
    "    -- Is there evidence that the critical incidence rate improved"
   ]
  },
  {
   "cell_type": "markdown",
   "id": "11b7ce42",
   "metadata": {},
   "source": [
    "##### 1: Checking what effect, if any, the reengineering effort had on the staff turnover"
   ]
  },
  {
   "cell_type": "code",
   "execution_count": 57,
   "id": "9c95c7bf",
   "metadata": {},
   "outputs": [
    {
     "data": {
      "text/html": [
       "<div>\n",
       "<style scoped>\n",
       "    .dataframe tbody tr th:only-of-type {\n",
       "        vertical-align: middle;\n",
       "    }\n",
       "\n",
       "    .dataframe tbody tr th {\n",
       "        vertical-align: top;\n",
       "    }\n",
       "\n",
       "    .dataframe thead th {\n",
       "        text-align: right;\n",
       "    }\n",
       "</style>\n",
       "<table border=\"1\" class=\"dataframe\">\n",
       "  <thead>\n",
       "    <tr style=\"text-align: right;\">\n",
       "      <th></th>\n",
       "      <th>Month</th>\n",
       "      <th>Reengineer</th>\n",
       "      <th>Employee_Turnover</th>\n",
       "      <th>TRFF</th>\n",
       "      <th>CI</th>\n",
       "    </tr>\n",
       "  </thead>\n",
       "  <tbody>\n",
       "    <tr>\n",
       "      <th>0</th>\n",
       "      <td>1</td>\n",
       "      <td>Prior</td>\n",
       "      <td>0.0000</td>\n",
       "      <td>24.390244</td>\n",
       "      <td>42.682927</td>\n",
       "    </tr>\n",
       "    <tr>\n",
       "      <th>1</th>\n",
       "      <td>2</td>\n",
       "      <td>Prior</td>\n",
       "      <td>6.0606</td>\n",
       "      <td>19.354839</td>\n",
       "      <td>25.806452</td>\n",
       "    </tr>\n",
       "    <tr>\n",
       "      <th>2</th>\n",
       "      <td>3</td>\n",
       "      <td>Prior</td>\n",
       "      <td>12.1212</td>\n",
       "      <td>35.087719</td>\n",
       "      <td>146.198830</td>\n",
       "    </tr>\n",
       "  </tbody>\n",
       "</table>\n",
       "</div>"
      ],
      "text/plain": [
       "   Month Reengineer  Employee_Turnover       TRFF          CI\n",
       "0      1      Prior             0.0000  24.390244   42.682927\n",
       "1      2      Prior             6.0606  19.354839   25.806452\n",
       "2      3      Prior            12.1212  35.087719  146.198830"
      ]
     },
     "execution_count": 57,
     "metadata": {},
     "output_type": "execute_result"
    }
   ],
   "source": [
    "treatment_facilty.head(3)"
   ]
  },
  {
   "cell_type": "code",
   "execution_count": 58,
   "id": "765695a5",
   "metadata": {},
   "outputs": [],
   "source": [
    "# STEP 1: Define Null Hypothesis H0:\n",
    "        #Reengineering has no effect on Employee turnover or u1=u2\n",
    "# STEP 2: Define Alternate Hypothesis Ha:\n",
    "        #Reengineering has effect on Employee turnover, and what effect u1!=u2\n",
    "# STEP 3: Define Confident Interval and pvalue:\n",
    "        # cI=95% (1.960)\n",
    "        # pvalue=0.05\n",
    "# STEP 4: Perform Testing"
   ]
  },
  {
   "cell_type": "code",
   "execution_count": 59,
   "id": "a2cb9d91",
   "metadata": {},
   "outputs": [],
   "source": [
    "emp_turnover='Employee_Turnover'\n",
    "\n",
    "emp_turnover_prior=treatment_facilty.loc[treatment_facilty.Reengineer=='Prior', emp_turnover]\n",
    "emp_turnover_post=treatment_facilty.loc[treatment_facilty.Reengineer=='Post', emp_turnover]"
   ]
  },
  {
   "cell_type": "code",
   "execution_count": 60,
   "id": "db6e2713",
   "metadata": {},
   "outputs": [],
   "source": [
    "t_score, pvalue=stats.ttest_ind(emp_turnover_prior, emp_turnover_post)"
   ]
  },
  {
   "cell_type": "code",
   "execution_count": 61,
   "id": "df517490",
   "metadata": {},
   "outputs": [
    {
     "name": "stdout",
     "output_type": "stream",
     "text": [
      "The t_score is:  -1.770306704753604\n",
      "The the pvalue is:  0.09361109345535304\n"
     ]
    }
   ],
   "source": [
    "print(\"The t_score is: \", t_score)\n",
    "print(\"The the pvalue is: \", pvalue)"
   ]
  },
  {
   "cell_type": "code",
   "execution_count": 62,
   "id": "da47a918",
   "metadata": {},
   "outputs": [
    {
     "name": "stdout",
     "output_type": "stream",
     "text": [
      "We fail to reject to Null Hypothesis\n"
     ]
    }
   ],
   "source": [
    "#STEP 5: Rejection Rule\n",
    "\n",
    "if pvalue<0.05:\n",
    "    print(\"We reject Null hypothesis\")\n",
    "else:\n",
    "    print(\"We fail to reject to Null Hypothesis\")"
   ]
  },
  {
   "cell_type": "code",
   "execution_count": 63,
   "id": "e2831b5a",
   "metadata": {},
   "outputs": [],
   "source": [
    "#STEP 6 Business Conclusion: We cannot say that Reengineering has effect on Employee turnover"
   ]
  },
  {
   "cell_type": "markdown",
   "id": "4cc7094e",
   "metadata": {},
   "source": [
    "##### 2.If the reengineering effort changed the critical incidence rate."
   ]
  },
  {
   "cell_type": "code",
   "execution_count": 64,
   "id": "b4d3aae5",
   "metadata": {},
   "outputs": [],
   "source": [
    "# STEP 1: Define Null Hypothesis H0:\n",
    "        #Reengineering has no effect on critical incidence or u1=u2\n",
    "# STEP 2: Define Alternate Hypothesis Ha:\n",
    "        #Reengineering has effect on critical incidence, and what effect u1!=u2\n",
    "# STEP 3: Define Confident Interval and pvalue:\n",
    "        # cI=95% (1.960)\n",
    "        # pvalue=0.05\n",
    "# STEP 4: Perform Testing"
   ]
  },
  {
   "cell_type": "code",
   "execution_count": 65,
   "id": "3829a1ed",
   "metadata": {},
   "outputs": [],
   "source": [
    "critical_incidence='CI'\n",
    "\n",
    "critical_incidence_prior=treatment_facilty.loc[treatment_facilty.Reengineer=='Prior', critical_incidence]\n",
    "critical_incidence_post=treatment_facilty.loc[treatment_facilty.Reengineer=='Post', critical_incidence]"
   ]
  },
  {
   "cell_type": "code",
   "execution_count": 66,
   "id": "84135e4e",
   "metadata": {},
   "outputs": [],
   "source": [
    "t_score, pvalue=stats.ttest_ind(critical_incidence_prior, critical_incidence_post)"
   ]
  },
  {
   "cell_type": "code",
   "execution_count": 67,
   "id": "0f1a63a8",
   "metadata": {},
   "outputs": [
    {
     "name": "stdout",
     "output_type": "stream",
     "text": [
      "The t_score is:  1.627914425352865\n",
      "The the pvalue is:  0.12091989189884148\n"
     ]
    }
   ],
   "source": [
    "print(\"The t_score is: \", t_score)\n",
    "print(\"The the pvalue is: \", pvalue)"
   ]
  },
  {
   "cell_type": "code",
   "execution_count": 68,
   "id": "03b99de2",
   "metadata": {},
   "outputs": [
    {
     "name": "stdout",
     "output_type": "stream",
     "text": [
      "We fail to reject to Null Hypothesis\n"
     ]
    }
   ],
   "source": [
    "#STEP 5: Rejection Rule\n",
    "\n",
    "if pvalue<0.05:\n",
    "    print(\"We reject Null hypothesis\")\n",
    "else:\n",
    "    print(\"We fail to reject to Null Hypothesis\")"
   ]
  },
  {
   "cell_type": "code",
   "execution_count": 69,
   "id": "adac7756",
   "metadata": {},
   "outputs": [],
   "source": [
    "#STEP 6 Business Conclusion: We cannot say that Reengineering has effect on critical Incidence"
   ]
  },
  {
   "cell_type": "markdown",
   "id": "4320327c",
   "metadata": {},
   "source": [
    "## Business Problem 4:"
   ]
  },
  {
   "cell_type": "markdown",
   "id": "77fd9f6a",
   "metadata": {},
   "source": [
    "In software development, projects typically encompass six phases, from requirements to maintenance. ApDudes, specializing in tablet app development, faced challenges meeting project deadlines and budgets. Their project manager identified issues in the implementation phase, where software engineers grappled with prioritization and project size. To address this, projects were divided into smaller tasks with assigned priorities. Our primary focus is on evaluating the effectiveness of this prioritization system. If it proves successful, high-priority tasks should be completed faster than medium-priority ones, and medium-priority tasks should outpace low-priority ones. We will analyze the data to determine if this prioritization hierarchy holds true in practice."
   ]
  },
  {
   "cell_type": "markdown",
   "id": "accf7087",
   "metadata": {},
   "source": [
    "<b>Data</b>:\n",
    "\n",
    "Priority_Assessment.csv\n",
    "    \n",
    "The data set contains a random sample of 642 jobs completed over the lastsix months. The variables in the data set are:\n",
    "Days The number of days it took to complete the job\n",
    "Priority The priority level assigned to that job\n"
   ]
  },
  {
   "cell_type": "code",
   "execution_count": 71,
   "id": "69993b99",
   "metadata": {},
   "outputs": [],
   "source": [
    "priority_assessment=pd.read_csv(\"E:\\CS\\DS360\\DS360-20230716T150307Z-001\\DS360\\Data Science 360\\Data Science 360\\Python\\Basic Statistics - Hypothesis Testing\\\\Priority_Assessment.csv\")"
   ]
  },
  {
   "cell_type": "code",
   "execution_count": 72,
   "id": "f0ae9e74",
   "metadata": {},
   "outputs": [
    {
     "data": {
      "text/html": [
       "<div>\n",
       "<style scoped>\n",
       "    .dataframe tbody tr th:only-of-type {\n",
       "        vertical-align: middle;\n",
       "    }\n",
       "\n",
       "    .dataframe tbody tr th {\n",
       "        vertical-align: top;\n",
       "    }\n",
       "\n",
       "    .dataframe thead th {\n",
       "        text-align: right;\n",
       "    }\n",
       "</style>\n",
       "<table border=\"1\" class=\"dataframe\">\n",
       "  <thead>\n",
       "    <tr style=\"text-align: right;\">\n",
       "      <th></th>\n",
       "      <th>Days</th>\n",
       "      <th>Priority</th>\n",
       "    </tr>\n",
       "  </thead>\n",
       "  <tbody>\n",
       "    <tr>\n",
       "      <th>0</th>\n",
       "      <td>3.3</td>\n",
       "      <td>High</td>\n",
       "    </tr>\n",
       "    <tr>\n",
       "      <th>1</th>\n",
       "      <td>7.9</td>\n",
       "      <td>Medium</td>\n",
       "    </tr>\n",
       "    <tr>\n",
       "      <th>2</th>\n",
       "      <td>0.3</td>\n",
       "      <td>High</td>\n",
       "    </tr>\n",
       "    <tr>\n",
       "      <th>3</th>\n",
       "      <td>0.7</td>\n",
       "      <td>Medium</td>\n",
       "    </tr>\n",
       "    <tr>\n",
       "      <th>4</th>\n",
       "      <td>8.6</td>\n",
       "      <td>Medium</td>\n",
       "    </tr>\n",
       "    <tr>\n",
       "      <th>...</th>\n",
       "      <td>...</td>\n",
       "      <td>...</td>\n",
       "    </tr>\n",
       "    <tr>\n",
       "      <th>637</th>\n",
       "      <td>2.5</td>\n",
       "      <td>Low</td>\n",
       "    </tr>\n",
       "    <tr>\n",
       "      <th>638</th>\n",
       "      <td>0.3</td>\n",
       "      <td>High</td>\n",
       "    </tr>\n",
       "    <tr>\n",
       "      <th>639</th>\n",
       "      <td>0.3</td>\n",
       "      <td>Medium</td>\n",
       "    </tr>\n",
       "    <tr>\n",
       "      <th>640</th>\n",
       "      <td>1.3</td>\n",
       "      <td>Medium</td>\n",
       "    </tr>\n",
       "    <tr>\n",
       "      <th>641</th>\n",
       "      <td>0.5</td>\n",
       "      <td>High</td>\n",
       "    </tr>\n",
       "  </tbody>\n",
       "</table>\n",
       "<p>642 rows × 2 columns</p>\n",
       "</div>"
      ],
      "text/plain": [
       "     Days Priority\n",
       "0     3.3     High\n",
       "1     7.9   Medium\n",
       "2     0.3     High\n",
       "3     0.7   Medium\n",
       "4     8.6   Medium\n",
       "..    ...      ...\n",
       "637   2.5      Low\n",
       "638   0.3     High\n",
       "639   0.3   Medium\n",
       "640   1.3   Medium\n",
       "641   0.5     High\n",
       "\n",
       "[642 rows x 2 columns]"
      ]
     },
     "execution_count": 72,
     "metadata": {},
     "output_type": "execute_result"
    }
   ],
   "source": [
    "priority_assessment"
   ]
  },
  {
   "cell_type": "code",
   "execution_count": 73,
   "id": "45971877",
   "metadata": {},
   "outputs": [
    {
     "name": "stdout",
     "output_type": "stream",
     "text": [
      "<class 'pandas.core.frame.DataFrame'>\n",
      "RangeIndex: 642 entries, 0 to 641\n",
      "Data columns (total 2 columns):\n",
      " #   Column    Non-Null Count  Dtype  \n",
      "---  ------    --------------  -----  \n",
      " 0   Days      642 non-null    float64\n",
      " 1   Priority  642 non-null    object \n",
      "dtypes: float64(1), object(1)\n",
      "memory usage: 10.2+ KB\n"
     ]
    }
   ],
   "source": [
    "priority_assessment.info()"
   ]
  },
  {
   "cell_type": "code",
   "execution_count": 74,
   "id": "c11c2cc8",
   "metadata": {},
   "outputs": [
    {
     "data": {
      "text/plain": [
       "Days        121\n",
       "Priority      3\n",
       "dtype: int64"
      ]
     },
     "execution_count": 74,
     "metadata": {},
     "output_type": "execute_result"
    }
   ],
   "source": [
    "priority_assessment.nunique()"
   ]
  },
  {
   "cell_type": "code",
   "execution_count": 75,
   "id": "1b5ccf82",
   "metadata": {},
   "outputs": [
    {
     "data": {
      "text/plain": [
       "Days        0\n",
       "Priority    0\n",
       "dtype: int64"
      ]
     },
     "execution_count": 75,
     "metadata": {},
     "output_type": "execute_result"
    }
   ],
   "source": [
    "priority_assessment.isnull().sum()"
   ]
  },
  {
   "cell_type": "markdown",
   "id": "9047e02e",
   "metadata": {},
   "source": [
    "##### STEP 1: Define Null hypothesis H0: Tasks not completed based on priority. u1=u2=u3\n",
    "\n",
    "##### STEP 2: Define Null hypothesis H0: Tasks completed based on priority. u1!=u2!=u3"
   ]
  },
  {
   "cell_type": "markdown",
   "id": "11b25dca",
   "metadata": {},
   "source": [
    "##### STEP 3: Define Null hypothesis H0: Define Confident interval and pvalue.\n",
    "\n",
    "        CI=95%\n",
    "        pvalue=0.05"
   ]
  },
  {
   "cell_type": "markdown",
   "id": "e6d04442",
   "metadata": {},
   "source": [
    "##### STEP 4: Perform Test:"
   ]
  },
  {
   "cell_type": "code",
   "execution_count": 76,
   "id": "baff55f5",
   "metadata": {},
   "outputs": [],
   "source": [
    "days='Days'\n",
    "\n",
    "low_priority=priority_assessment.loc[priority_assessment.Priority=='Low', days]\n",
    "medium_priority=priority_assessment.loc[priority_assessment.Priority=='Medium', days]\n",
    "high_priority=priority_assessment.loc[priority_assessment.Priority=='High', days]"
   ]
  },
  {
   "cell_type": "code",
   "execution_count": 77,
   "id": "5f739dda",
   "metadata": {},
   "outputs": [
    {
     "name": "stdout",
     "output_type": "stream",
     "text": [
      "f_Score is : 1.8123110100760724, and pvalue is: 0.16411459461716182\n"
     ]
    }
   ],
   "source": [
    "f_score, pvalue=stats.f_oneway(low_priority, medium_priority, high_priority)\n",
    "print(\"f_Score is : {}, and pvalue is: {}\".format(f_score, pvalue))"
   ]
  },
  {
   "cell_type": "markdown",
   "id": "a84f6657",
   "metadata": {},
   "source": [
    "##### STEP 5: Rejection Rule"
   ]
  },
  {
   "cell_type": "code",
   "execution_count": 78,
   "id": "9b27c56d",
   "metadata": {},
   "outputs": [
    {
     "name": "stdout",
     "output_type": "stream",
     "text": [
      "We fail to reject Null Hypothesis\n"
     ]
    }
   ],
   "source": [
    "if pvalue<0.05:\n",
    "    print(\"We reject Null Hypothesis\")\n",
    "else:\n",
    "    print(\"We fail to reject Null Hypothesis\")"
   ]
  },
  {
   "cell_type": "markdown",
   "id": "3dac1253",
   "metadata": {},
   "source": [
    "##### STEP 6: Business Conclusion: \n",
    "We cannot say that that high priority jobs are completed more quickly than medium priority jobs, and medium priority jobs are completed more quickly than low priority jobs with the help of this data. "
   ]
  },
  {
   "cell_type": "markdown",
   "id": "9e9164e1",
   "metadata": {},
   "source": [
    "## Business Problem 5:"
   ]
  },
  {
   "cell_type": "markdown",
   "id": "f81a915f",
   "metadata": {},
   "source": [
    "Film on the Rocks is a summer movie series held at Colorado's renowned Red Rocks Amphitheatre. It features classic films and live entertainment, backed by corporate sponsors. While Red Rocks offers a unique experience, accessibility and weather can be issues. The promoters aim to enhance attendance and sponsorships, so they conducted surveys to understand their audience and improve marketing."
   ]
  },
  {
   "cell_type": "markdown",
   "id": "b8b5212d",
   "metadata": {},
   "source": [
    "<b>Business Problem</b>: Use the survey resultsto addressthe following questions\n",
    "- What isthe overall level of customer satisfaction?\n",
    "- What factors are linked to satisfaction?\n",
    "- What is the demographic profile of Film on the Rocks patrons?\n",
    "- In what media outlet(s) should the film series be advertised?"
   ]
  },
  {
   "cell_type": "markdown",
   "id": "abf328d4",
   "metadata": {},
   "source": [
    "<b>Data</b>: The data set <b><i>\"Films.csv\"</i></b> contains 330 surveys collected during three Film on the Rocks movies:\n",
    "Ferris Bueller’s Day Off, Old School, and Willy Wonka and the Chocolate Factory."
   ]
  },
  {
   "cell_type": "code",
   "execution_count": 79,
   "id": "27a33dc1",
   "metadata": {},
   "outputs": [],
   "source": [
    "films_data=pd.read_csv(\"E:\\\\CS\\DS360\\\\DS360-20230716T150307Z-001\\\\DS360\\\\Data Science 360\\\\Data Science 360\\\\Python\\\\Basic Statistics - Hypothesis Testing\\\\films.csv\")"
   ]
  },
  {
   "cell_type": "code",
   "execution_count": 80,
   "id": "dc332959",
   "metadata": {},
   "outputs": [
    {
     "data": {
      "text/html": [
       "<div>\n",
       "<style scoped>\n",
       "    .dataframe tbody tr th:only-of-type {\n",
       "        vertical-align: middle;\n",
       "    }\n",
       "\n",
       "    .dataframe tbody tr th {\n",
       "        vertical-align: top;\n",
       "    }\n",
       "\n",
       "    .dataframe thead th {\n",
       "        text-align: right;\n",
       "    }\n",
       "</style>\n",
       "<table border=\"1\" class=\"dataframe\">\n",
       "  <thead>\n",
       "    <tr style=\"text-align: right;\">\n",
       "      <th></th>\n",
       "      <th>_rowstate_</th>\n",
       "      <th>Movie</th>\n",
       "      <th>Gender</th>\n",
       "      <th>Marital_Status</th>\n",
       "      <th>Sinage</th>\n",
       "      <th>Parking</th>\n",
       "      <th>Clean</th>\n",
       "      <th>Overall</th>\n",
       "      <th>Age</th>\n",
       "      <th>Income</th>\n",
       "      <th>Hear_About</th>\n",
       "    </tr>\n",
       "  </thead>\n",
       "  <tbody>\n",
       "    <tr>\n",
       "      <th>0</th>\n",
       "      <td>0</td>\n",
       "      <td>Ferris Buellers Day Off</td>\n",
       "      <td>Female</td>\n",
       "      <td>Married</td>\n",
       "      <td>2.0</td>\n",
       "      <td>2.0</td>\n",
       "      <td>2.0</td>\n",
       "      <td>2.0</td>\n",
       "      <td>3.0</td>\n",
       "      <td>1.0</td>\n",
       "      <td>5</td>\n",
       "    </tr>\n",
       "    <tr>\n",
       "      <th>1</th>\n",
       "      <td>0</td>\n",
       "      <td>Ferris Buellers Day Off</td>\n",
       "      <td>Female</td>\n",
       "      <td>Single</td>\n",
       "      <td>1.0</td>\n",
       "      <td>1.0</td>\n",
       "      <td>1.0</td>\n",
       "      <td>1.0</td>\n",
       "      <td>2.0</td>\n",
       "      <td>1.0</td>\n",
       "      <td>5</td>\n",
       "    </tr>\n",
       "    <tr>\n",
       "      <th>2</th>\n",
       "      <td>0</td>\n",
       "      <td>Ferris Buellers Day Off</td>\n",
       "      <td>Male</td>\n",
       "      <td>Married</td>\n",
       "      <td>2.0</td>\n",
       "      <td>4.0</td>\n",
       "      <td>3.0</td>\n",
       "      <td>2.0</td>\n",
       "      <td>4.0</td>\n",
       "      <td>1.0</td>\n",
       "      <td>5</td>\n",
       "    </tr>\n",
       "    <tr>\n",
       "      <th>3</th>\n",
       "      <td>0</td>\n",
       "      <td>Ferris Buellers Day Off</td>\n",
       "      <td>Female</td>\n",
       "      <td>Married</td>\n",
       "      <td>1.0</td>\n",
       "      <td>3.0</td>\n",
       "      <td>2.0</td>\n",
       "      <td>2.0</td>\n",
       "      <td>4.0</td>\n",
       "      <td>1.0</td>\n",
       "      <td>5</td>\n",
       "    </tr>\n",
       "    <tr>\n",
       "      <th>4</th>\n",
       "      <td>0</td>\n",
       "      <td>Ferris Buellers Day Off</td>\n",
       "      <td>Female</td>\n",
       "      <td>Married</td>\n",
       "      <td>1.0</td>\n",
       "      <td>1.0</td>\n",
       "      <td>1.0</td>\n",
       "      <td>1.0</td>\n",
       "      <td>3.0</td>\n",
       "      <td>3.0</td>\n",
       "      <td>1</td>\n",
       "    </tr>\n",
       "    <tr>\n",
       "      <th>...</th>\n",
       "      <td>...</td>\n",
       "      <td>...</td>\n",
       "      <td>...</td>\n",
       "      <td>...</td>\n",
       "      <td>...</td>\n",
       "      <td>...</td>\n",
       "      <td>...</td>\n",
       "      <td>...</td>\n",
       "      <td>...</td>\n",
       "      <td>...</td>\n",
       "      <td>...</td>\n",
       "    </tr>\n",
       "    <tr>\n",
       "      <th>325</th>\n",
       "      <td>0</td>\n",
       "      <td>Old School</td>\n",
       "      <td>2</td>\n",
       "      <td>2</td>\n",
       "      <td>1.0</td>\n",
       "      <td>2.0</td>\n",
       "      <td>1.0</td>\n",
       "      <td>1.0</td>\n",
       "      <td>2.0</td>\n",
       "      <td>1.0</td>\n",
       "      <td>1</td>\n",
       "    </tr>\n",
       "    <tr>\n",
       "      <th>326</th>\n",
       "      <td>0</td>\n",
       "      <td>Old School</td>\n",
       "      <td>1</td>\n",
       "      <td>1</td>\n",
       "      <td>2.0</td>\n",
       "      <td>2.0</td>\n",
       "      <td>2.0</td>\n",
       "      <td>2.0</td>\n",
       "      <td>3.0</td>\n",
       "      <td>3.0</td>\n",
       "      <td>5</td>\n",
       "    </tr>\n",
       "    <tr>\n",
       "      <th>327</th>\n",
       "      <td>0</td>\n",
       "      <td>Old School</td>\n",
       "      <td>2</td>\n",
       "      <td>1</td>\n",
       "      <td>2.0</td>\n",
       "      <td>1.0</td>\n",
       "      <td>1.0</td>\n",
       "      <td>2.0</td>\n",
       "      <td>2.0</td>\n",
       "      <td>2.0</td>\n",
       "      <td>5</td>\n",
       "    </tr>\n",
       "    <tr>\n",
       "      <th>328</th>\n",
       "      <td>0</td>\n",
       "      <td>Old School</td>\n",
       "      <td>1</td>\n",
       "      <td>1</td>\n",
       "      <td>1.0</td>\n",
       "      <td>1.0</td>\n",
       "      <td>1.0</td>\n",
       "      <td>1.0</td>\n",
       "      <td>2.0</td>\n",
       "      <td>1.0</td>\n",
       "      <td>3</td>\n",
       "    </tr>\n",
       "    <tr>\n",
       "      <th>329</th>\n",
       "      <td>0</td>\n",
       "      <td>Old School</td>\n",
       "      <td>2</td>\n",
       "      <td>2</td>\n",
       "      <td>2.0</td>\n",
       "      <td>2.0</td>\n",
       "      <td>3.0</td>\n",
       "      <td>1.0</td>\n",
       "      <td>2.0</td>\n",
       "      <td>1.0</td>\n",
       "      <td>5</td>\n",
       "    </tr>\n",
       "  </tbody>\n",
       "</table>\n",
       "<p>330 rows × 11 columns</p>\n",
       "</div>"
      ],
      "text/plain": [
       "     _rowstate_                    Movie  Gender Marital_Status  Sinage  \\\n",
       "0             0  Ferris Buellers Day Off  Female        Married     2.0   \n",
       "1             0  Ferris Buellers Day Off  Female         Single     1.0   \n",
       "2             0  Ferris Buellers Day Off    Male        Married     2.0   \n",
       "3             0  Ferris Buellers Day Off  Female        Married     1.0   \n",
       "4             0  Ferris Buellers Day Off  Female        Married     1.0   \n",
       "..          ...                      ...     ...            ...     ...   \n",
       "325           0               Old School       2              2     1.0   \n",
       "326           0               Old School       1              1     2.0   \n",
       "327           0               Old School       2              1     2.0   \n",
       "328           0               Old School       1              1     1.0   \n",
       "329           0               Old School       2              2     2.0   \n",
       "\n",
       "     Parking  Clean  Overall  Age  Income Hear_About  \n",
       "0        2.0    2.0      2.0  3.0     1.0          5  \n",
       "1        1.0    1.0      1.0  2.0     1.0          5  \n",
       "2        4.0    3.0      2.0  4.0     1.0          5  \n",
       "3        3.0    2.0      2.0  4.0     1.0          5  \n",
       "4        1.0    1.0      1.0  3.0     3.0          1  \n",
       "..       ...    ...      ...  ...     ...        ...  \n",
       "325      2.0    1.0      1.0  2.0     1.0          1  \n",
       "326      2.0    2.0      2.0  3.0     3.0          5  \n",
       "327      1.0    1.0      2.0  2.0     2.0          5  \n",
       "328      1.0    1.0      1.0  2.0     1.0          3  \n",
       "329      2.0    3.0      1.0  2.0     1.0          5  \n",
       "\n",
       "[330 rows x 11 columns]"
      ]
     },
     "execution_count": 80,
     "metadata": {},
     "output_type": "execute_result"
    }
   ],
   "source": [
    "films_data"
   ]
  },
  {
   "cell_type": "code",
   "execution_count": 81,
   "id": "fbee7957",
   "metadata": {},
   "outputs": [
    {
     "name": "stdout",
     "output_type": "stream",
     "text": [
      "<class 'pandas.core.frame.DataFrame'>\n",
      "RangeIndex: 330 entries, 0 to 329\n",
      "Data columns (total 11 columns):\n",
      " #   Column          Non-Null Count  Dtype  \n",
      "---  ------          --------------  -----  \n",
      " 0   _rowstate_      330 non-null    int64  \n",
      " 1   Movie           330 non-null    object \n",
      " 2   Gender          330 non-null    object \n",
      " 3   Marital_Status  328 non-null    object \n",
      " 4   Sinage          328 non-null    float64\n",
      " 5   Parking         328 non-null    float64\n",
      " 6   Clean           327 non-null    float64\n",
      " 7   Overall         328 non-null    float64\n",
      " 8   Age             328 non-null    float64\n",
      " 9   Income          314 non-null    float64\n",
      " 10  Hear_About      323 non-null    object \n",
      "dtypes: float64(6), int64(1), object(4)\n",
      "memory usage: 28.5+ KB\n"
     ]
    }
   ],
   "source": [
    "films_data.info()"
   ]
  },
  {
   "cell_type": "code",
   "execution_count": 82,
   "id": "be03bc1c",
   "metadata": {},
   "outputs": [
    {
     "data": {
      "text/plain": [
       "_rowstate_         0\n",
       "Movie              0\n",
       "Gender             0\n",
       "Marital_Status     2\n",
       "Sinage             2\n",
       "Parking            2\n",
       "Clean              3\n",
       "Overall            2\n",
       "Age                2\n",
       "Income            16\n",
       "Hear_About         7\n",
       "dtype: int64"
      ]
     },
     "execution_count": 82,
     "metadata": {},
     "output_type": "execute_result"
    }
   ],
   "source": [
    "films_data.isna().sum()"
   ]
  },
  {
   "cell_type": "code",
   "execution_count": 83,
   "id": "686c1839",
   "metadata": {},
   "outputs": [
    {
     "data": {
      "text/plain": [
       "_rowstate_         1\n",
       "Movie              3\n",
       "Gender             4\n",
       "Marital_Status     5\n",
       "Sinage             5\n",
       "Parking            5\n",
       "Clean              5\n",
       "Overall            5\n",
       "Age                4\n",
       "Income             3\n",
       "Hear_About        11\n",
       "dtype: int64"
      ]
     },
     "execution_count": 83,
     "metadata": {},
     "output_type": "execute_result"
    }
   ],
   "source": [
    "films_data.nunique()"
   ]
  },
  {
   "cell_type": "code",
   "execution_count": 84,
   "id": "0d48c7e4",
   "metadata": {},
   "outputs": [],
   "source": [
    "films_data.Marital_Status.fillna(films_data.Marital_Status.value_counts().index[0], inplace=True)\n",
    "films_data.Sinage.fillna(films_data.Sinage.value_counts().index[0], inplace=True)\n",
    "films_data.Parking.fillna(films_data.Parking.value_counts().index[0], inplace=True)\n",
    "films_data.Clean.fillna(films_data.Clean.value_counts().index[0], inplace=True)\n",
    "films_data.Overall.fillna(films_data.Overall.value_counts().index[0], inplace=True)\n",
    "films_data.Age.fillna(films_data.Age.value_counts().index[0], inplace=True)\n",
    "films_data.Income.fillna(films_data.Income.value_counts().index[0], inplace=True)\n",
    "films_data.Hear_About.fillna(films_data.Hear_About.value_counts().index[0], inplace=True)"
   ]
  },
  {
   "cell_type": "code",
   "execution_count": 85,
   "id": "8cd84e66",
   "metadata": {},
   "outputs": [
    {
     "name": "stdout",
     "output_type": "stream",
     "text": [
      "<class 'pandas.core.frame.DataFrame'>\n",
      "RangeIndex: 330 entries, 0 to 329\n",
      "Data columns (total 11 columns):\n",
      " #   Column          Non-Null Count  Dtype  \n",
      "---  ------          --------------  -----  \n",
      " 0   _rowstate_      330 non-null    int64  \n",
      " 1   Movie           330 non-null    object \n",
      " 2   Gender          330 non-null    object \n",
      " 3   Marital_Status  330 non-null    object \n",
      " 4   Sinage          330 non-null    float64\n",
      " 5   Parking         330 non-null    float64\n",
      " 6   Clean           330 non-null    float64\n",
      " 7   Overall         330 non-null    float64\n",
      " 8   Age             330 non-null    float64\n",
      " 9   Income          330 non-null    float64\n",
      " 10  Hear_About      330 non-null    object \n",
      "dtypes: float64(6), int64(1), object(4)\n",
      "memory usage: 28.5+ KB\n"
     ]
    }
   ],
   "source": [
    "films_data.info()"
   ]
  },
  {
   "cell_type": "code",
   "execution_count": 86,
   "id": "928e3bcd",
   "metadata": {},
   "outputs": [],
   "source": [
    "films_data.drop(columns='_rowstate_', inplace=True)"
   ]
  },
  {
   "cell_type": "code",
   "execution_count": 87,
   "id": "a4ce77eb",
   "metadata": {},
   "outputs": [
    {
     "data": {
      "text/html": [
       "<div>\n",
       "<style scoped>\n",
       "    .dataframe tbody tr th:only-of-type {\n",
       "        vertical-align: middle;\n",
       "    }\n",
       "\n",
       "    .dataframe tbody tr th {\n",
       "        vertical-align: top;\n",
       "    }\n",
       "\n",
       "    .dataframe thead th {\n",
       "        text-align: right;\n",
       "    }\n",
       "</style>\n",
       "<table border=\"1\" class=\"dataframe\">\n",
       "  <thead>\n",
       "    <tr style=\"text-align: right;\">\n",
       "      <th></th>\n",
       "      <th>Movie</th>\n",
       "      <th>Gender</th>\n",
       "      <th>Marital_Status</th>\n",
       "      <th>Sinage</th>\n",
       "      <th>Parking</th>\n",
       "      <th>Clean</th>\n",
       "      <th>Overall</th>\n",
       "      <th>Age</th>\n",
       "      <th>Income</th>\n",
       "      <th>Hear_About</th>\n",
       "    </tr>\n",
       "  </thead>\n",
       "  <tbody>\n",
       "    <tr>\n",
       "      <th>0</th>\n",
       "      <td>Ferris Buellers Day Off</td>\n",
       "      <td>Female</td>\n",
       "      <td>Married</td>\n",
       "      <td>2.0</td>\n",
       "      <td>2.0</td>\n",
       "      <td>2.0</td>\n",
       "      <td>2.0</td>\n",
       "      <td>3.0</td>\n",
       "      <td>1.0</td>\n",
       "      <td>5</td>\n",
       "    </tr>\n",
       "    <tr>\n",
       "      <th>1</th>\n",
       "      <td>Ferris Buellers Day Off</td>\n",
       "      <td>Female</td>\n",
       "      <td>Single</td>\n",
       "      <td>1.0</td>\n",
       "      <td>1.0</td>\n",
       "      <td>1.0</td>\n",
       "      <td>1.0</td>\n",
       "      <td>2.0</td>\n",
       "      <td>1.0</td>\n",
       "      <td>5</td>\n",
       "    </tr>\n",
       "    <tr>\n",
       "      <th>2</th>\n",
       "      <td>Ferris Buellers Day Off</td>\n",
       "      <td>Male</td>\n",
       "      <td>Married</td>\n",
       "      <td>2.0</td>\n",
       "      <td>4.0</td>\n",
       "      <td>3.0</td>\n",
       "      <td>2.0</td>\n",
       "      <td>4.0</td>\n",
       "      <td>1.0</td>\n",
       "      <td>5</td>\n",
       "    </tr>\n",
       "  </tbody>\n",
       "</table>\n",
       "</div>"
      ],
      "text/plain": [
       "                     Movie  Gender Marital_Status  Sinage  Parking  Clean  \\\n",
       "0  Ferris Buellers Day Off  Female        Married     2.0      2.0    2.0   \n",
       "1  Ferris Buellers Day Off  Female         Single     1.0      1.0    1.0   \n",
       "2  Ferris Buellers Day Off    Male        Married     2.0      4.0    3.0   \n",
       "\n",
       "   Overall  Age  Income Hear_About  \n",
       "0      2.0  3.0     1.0          5  \n",
       "1      1.0  2.0     1.0          5  \n",
       "2      2.0  4.0     1.0          5  "
      ]
     },
     "execution_count": 87,
     "metadata": {},
     "output_type": "execute_result"
    }
   ],
   "source": [
    "films_data.head(3)"
   ]
  },
  {
   "cell_type": "code",
   "execution_count": 88,
   "id": "1a24df9e",
   "metadata": {},
   "outputs": [
    {
     "data": {
      "text/plain": [
       "2         194\n",
       "1         104\n",
       "Female     19\n",
       "Male       13\n",
       "Name: Gender, dtype: int64"
      ]
     },
     "execution_count": 88,
     "metadata": {},
     "output_type": "execute_result"
    }
   ],
   "source": [
    "#Data Prep\n",
    "\n",
    "films_data.Gender.value_counts()"
   ]
  },
  {
   "cell_type": "code",
   "execution_count": 89,
   "id": "021494d9",
   "metadata": {},
   "outputs": [],
   "source": [
    "films_data.Gender=np.where((films_data.Gender == 'Male') | (films_data.Gender == '1'),\"Male\",\"Female\")"
   ]
  },
  {
   "cell_type": "code",
   "execution_count": 90,
   "id": "fb57f57c",
   "metadata": {},
   "outputs": [],
   "source": [
    "films_data.Marital_Status=np.where((films_data.Marital_Status=='1') | (films_data.Marital_Status=='Married') ,\"Married\",\"Single\" )"
   ]
  },
  {
   "cell_type": "code",
   "execution_count": 91,
   "id": "cc98caac",
   "metadata": {},
   "outputs": [
    {
     "name": "stdout",
     "output_type": "stream",
     "text": [
      "<class 'pandas.core.frame.DataFrame'>\n",
      "RangeIndex: 330 entries, 0 to 329\n",
      "Data columns (total 10 columns):\n",
      " #   Column          Non-Null Count  Dtype  \n",
      "---  ------          --------------  -----  \n",
      " 0   Movie           330 non-null    object \n",
      " 1   Gender          330 non-null    object \n",
      " 2   Marital_Status  330 non-null    object \n",
      " 3   Sinage          330 non-null    float64\n",
      " 4   Parking         330 non-null    float64\n",
      " 5   Clean           330 non-null    float64\n",
      " 6   Overall         330 non-null    float64\n",
      " 7   Age             330 non-null    float64\n",
      " 8   Income          330 non-null    float64\n",
      " 9   Hear_About      330 non-null    object \n",
      "dtypes: float64(6), object(4)\n",
      "memory usage: 25.9+ KB\n"
     ]
    }
   ],
   "source": [
    "films_data.info()"
   ]
  },
  {
   "cell_type": "code",
   "execution_count": 92,
   "id": "35b7326c",
   "metadata": {},
   "outputs": [
    {
     "data": {
      "text/html": [
       "<div>\n",
       "<style scoped>\n",
       "    .dataframe tbody tr th:only-of-type {\n",
       "        vertical-align: middle;\n",
       "    }\n",
       "\n",
       "    .dataframe tbody tr th {\n",
       "        vertical-align: top;\n",
       "    }\n",
       "\n",
       "    .dataframe thead th {\n",
       "        text-align: right;\n",
       "    }\n",
       "</style>\n",
       "<table border=\"1\" class=\"dataframe\">\n",
       "  <thead>\n",
       "    <tr style=\"text-align: right;\">\n",
       "      <th></th>\n",
       "      <th>Movie</th>\n",
       "      <th>Gender</th>\n",
       "      <th>Marital_Status</th>\n",
       "      <th>Sinage</th>\n",
       "      <th>Parking</th>\n",
       "      <th>Clean</th>\n",
       "      <th>Overall</th>\n",
       "      <th>Age</th>\n",
       "      <th>Income</th>\n",
       "      <th>Hear_About</th>\n",
       "    </tr>\n",
       "  </thead>\n",
       "  <tbody>\n",
       "    <tr>\n",
       "      <th>0</th>\n",
       "      <td>Ferris Buellers Day Off</td>\n",
       "      <td>Female</td>\n",
       "      <td>Married</td>\n",
       "      <td>2.0</td>\n",
       "      <td>2.0</td>\n",
       "      <td>2.0</td>\n",
       "      <td>2.0</td>\n",
       "      <td>3.0</td>\n",
       "      <td>1.0</td>\n",
       "      <td>5</td>\n",
       "    </tr>\n",
       "    <tr>\n",
       "      <th>1</th>\n",
       "      <td>Ferris Buellers Day Off</td>\n",
       "      <td>Female</td>\n",
       "      <td>Single</td>\n",
       "      <td>1.0</td>\n",
       "      <td>1.0</td>\n",
       "      <td>1.0</td>\n",
       "      <td>1.0</td>\n",
       "      <td>2.0</td>\n",
       "      <td>1.0</td>\n",
       "      <td>5</td>\n",
       "    </tr>\n",
       "    <tr>\n",
       "      <th>2</th>\n",
       "      <td>Ferris Buellers Day Off</td>\n",
       "      <td>Male</td>\n",
       "      <td>Married</td>\n",
       "      <td>2.0</td>\n",
       "      <td>4.0</td>\n",
       "      <td>3.0</td>\n",
       "      <td>2.0</td>\n",
       "      <td>4.0</td>\n",
       "      <td>1.0</td>\n",
       "      <td>5</td>\n",
       "    </tr>\n",
       "  </tbody>\n",
       "</table>\n",
       "</div>"
      ],
      "text/plain": [
       "                     Movie  Gender Marital_Status  Sinage  Parking  Clean  \\\n",
       "0  Ferris Buellers Day Off  Female        Married     2.0      2.0    2.0   \n",
       "1  Ferris Buellers Day Off  Female         Single     1.0      1.0    1.0   \n",
       "2  Ferris Buellers Day Off    Male        Married     2.0      4.0    3.0   \n",
       "\n",
       "   Overall  Age  Income Hear_About  \n",
       "0      2.0  3.0     1.0          5  \n",
       "1      1.0  2.0     1.0          5  \n",
       "2      2.0  4.0     1.0          5  "
      ]
     },
     "execution_count": 92,
     "metadata": {},
     "output_type": "execute_result"
    }
   ],
   "source": [
    "films_data.head(3)"
   ]
  },
  {
   "cell_type": "code",
   "execution_count": 93,
   "id": "60419a2e",
   "metadata": {},
   "outputs": [],
   "source": [
    "for i in films_data.columns:\n",
    "    films_data[i]=films_data[i].fillna(films_data[i].mode()[0]) "
   ]
  },
  {
   "cell_type": "code",
   "execution_count": 94,
   "id": "28c31ab2",
   "metadata": {},
   "outputs": [
    {
     "data": {
      "text/plain": [
       "Movie             0\n",
       "Gender            0\n",
       "Marital_Status    0\n",
       "Sinage            0\n",
       "Parking           0\n",
       "Clean             0\n",
       "Overall           0\n",
       "Age               0\n",
       "Income            0\n",
       "Hear_About        0\n",
       "dtype: int64"
      ]
     },
     "execution_count": 94,
     "metadata": {},
     "output_type": "execute_result"
    }
   ],
   "source": [
    "films_data.isna().sum()"
   ]
  },
  {
   "cell_type": "code",
   "execution_count": 95,
   "id": "dd96d070",
   "metadata": {},
   "outputs": [],
   "source": [
    "# 1. What is the overall level of customer satisfaction?"
   ]
  },
  {
   "cell_type": "code",
   "execution_count": 96,
   "id": "ced5abf5",
   "metadata": {},
   "outputs": [],
   "source": [
    "mean=films_data.Overall.mean()"
   ]
  },
  {
   "cell_type": "code",
   "execution_count": 97,
   "id": "23277d02",
   "metadata": {},
   "outputs": [],
   "source": [
    "std=films_data.Overall.std()"
   ]
  },
  {
   "cell_type": "code",
   "execution_count": 98,
   "id": "8349fc34",
   "metadata": {},
   "outputs": [],
   "source": [
    "SE=std/(np.sqrt(films_data.shape[0]))"
   ]
  },
  {
   "cell_type": "code",
   "execution_count": 99,
   "id": "4f04d55f",
   "metadata": {},
   "outputs": [],
   "source": [
    "range1=mean-(1.96*SE)\n",
    "range2=mean+(1.96*SE)"
   ]
  },
  {
   "cell_type": "code",
   "execution_count": 100,
   "id": "475e7558",
   "metadata": {},
   "outputs": [
    {
     "name": "stdout",
     "output_type": "stream",
     "text": [
      "With 95% of confidence interval, the overall level of customer satisfaction range between 1.5469994901816928 and 1.6954247522425494 \n"
     ]
    }
   ],
   "source": [
    "print(\"With 95% of confidence interval, the overall level of customer satisfaction range between {} and {} \".format(range1, range2))"
   ]
  },
  {
   "cell_type": "code",
   "execution_count": 101,
   "id": "bc8588b8",
   "metadata": {},
   "outputs": [],
   "source": [
    "#2. What factors are linked to satisfaction?"
   ]
  },
  {
   "cell_type": "code",
   "execution_count": 102,
   "id": "4f47fafd",
   "metadata": {},
   "outputs": [
    {
     "data": {
      "text/html": [
       "<div>\n",
       "<style scoped>\n",
       "    .dataframe tbody tr th:only-of-type {\n",
       "        vertical-align: middle;\n",
       "    }\n",
       "\n",
       "    .dataframe tbody tr th {\n",
       "        vertical-align: top;\n",
       "    }\n",
       "\n",
       "    .dataframe thead th {\n",
       "        text-align: right;\n",
       "    }\n",
       "</style>\n",
       "<table border=\"1\" class=\"dataframe\">\n",
       "  <thead>\n",
       "    <tr style=\"text-align: right;\">\n",
       "      <th></th>\n",
       "      <th>Movie</th>\n",
       "      <th>Gender</th>\n",
       "      <th>Marital_Status</th>\n",
       "      <th>Sinage</th>\n",
       "      <th>Parking</th>\n",
       "      <th>Clean</th>\n",
       "      <th>Overall</th>\n",
       "      <th>Age</th>\n",
       "      <th>Income</th>\n",
       "      <th>Hear_About</th>\n",
       "    </tr>\n",
       "  </thead>\n",
       "  <tbody>\n",
       "    <tr>\n",
       "      <th>0</th>\n",
       "      <td>Ferris Buellers Day Off</td>\n",
       "      <td>Female</td>\n",
       "      <td>Married</td>\n",
       "      <td>2.0</td>\n",
       "      <td>2.0</td>\n",
       "      <td>2.0</td>\n",
       "      <td>2.0</td>\n",
       "      <td>3.0</td>\n",
       "      <td>1.0</td>\n",
       "      <td>5</td>\n",
       "    </tr>\n",
       "    <tr>\n",
       "      <th>1</th>\n",
       "      <td>Ferris Buellers Day Off</td>\n",
       "      <td>Female</td>\n",
       "      <td>Single</td>\n",
       "      <td>1.0</td>\n",
       "      <td>1.0</td>\n",
       "      <td>1.0</td>\n",
       "      <td>1.0</td>\n",
       "      <td>2.0</td>\n",
       "      <td>1.0</td>\n",
       "      <td>5</td>\n",
       "    </tr>\n",
       "    <tr>\n",
       "      <th>2</th>\n",
       "      <td>Ferris Buellers Day Off</td>\n",
       "      <td>Male</td>\n",
       "      <td>Married</td>\n",
       "      <td>2.0</td>\n",
       "      <td>4.0</td>\n",
       "      <td>3.0</td>\n",
       "      <td>2.0</td>\n",
       "      <td>4.0</td>\n",
       "      <td>1.0</td>\n",
       "      <td>5</td>\n",
       "    </tr>\n",
       "  </tbody>\n",
       "</table>\n",
       "</div>"
      ],
      "text/plain": [
       "                     Movie  Gender Marital_Status  Sinage  Parking  Clean  \\\n",
       "0  Ferris Buellers Day Off  Female        Married     2.0      2.0    2.0   \n",
       "1  Ferris Buellers Day Off  Female         Single     1.0      1.0    1.0   \n",
       "2  Ferris Buellers Day Off    Male        Married     2.0      4.0    3.0   \n",
       "\n",
       "   Overall  Age  Income Hear_About  \n",
       "0      2.0  3.0     1.0          5  \n",
       "1      1.0  2.0     1.0          5  \n",
       "2      2.0  4.0     1.0          5  "
      ]
     },
     "execution_count": 102,
     "metadata": {},
     "output_type": "execute_result"
    }
   ],
   "source": [
    "films_data.head(3)"
   ]
  },
  {
   "cell_type": "code",
   "execution_count": 103,
   "id": "7af53ec4",
   "metadata": {},
   "outputs": [],
   "source": [
    "#Factor 1: Movie"
   ]
  },
  {
   "cell_type": "code",
   "execution_count": 104,
   "id": "88ea370d",
   "metadata": {},
   "outputs": [
    {
     "data": {
      "text/plain": [
       "Willy Wonka                161\n",
       "Ferris Buellers Day Off    137\n",
       "Old School                  32\n",
       "Name: Movie, dtype: int64"
      ]
     },
     "execution_count": 104,
     "metadata": {},
     "output_type": "execute_result"
    }
   ],
   "source": [
    "films_data.Movie.value_counts()"
   ]
  },
  {
   "cell_type": "code",
   "execution_count": 105,
   "id": "9cae7744",
   "metadata": {},
   "outputs": [],
   "source": [
    "overall='Overall'\n",
    "\n",
    "Willy_Wonka=films_data.loc[films_data.Movie=='Willy Wonka', overall]\n",
    "Ferris_Buellers=films_data.loc[films_data.Movie=='Ferris Buellers Day Off', overall]\n",
    "Old_School=films_data.loc[films_data.Movie=='Old School', overall]"
   ]
  },
  {
   "cell_type": "code",
   "execution_count": 106,
   "id": "ffe7f9b7",
   "metadata": {},
   "outputs": [],
   "source": [
    "f_score, pvalue=stats.f_oneway(Willy_Wonka, Ferris_Buellers, Old_School)"
   ]
  },
  {
   "cell_type": "code",
   "execution_count": 107,
   "id": "b19e1999",
   "metadata": {},
   "outputs": [
    {
     "name": "stdout",
     "output_type": "stream",
     "text": [
      "We fail to reject Null Hypothesis\n"
     ]
    }
   ],
   "source": [
    "if pvalue<0.05:\n",
    "    print(\"We reject Null Hypothesis\")\n",
    "else:\n",
    "    print(\"We fail to reject Null Hypothesis\")"
   ]
  },
  {
   "cell_type": "code",
   "execution_count": 108,
   "id": "d79b3739",
   "metadata": {},
   "outputs": [
    {
     "name": "stdout",
     "output_type": "stream",
     "text": [
      "With 95 percent confidence interval, we cannot say that Movie is a factor linked to satisfaction with this data.\n"
     ]
    }
   ],
   "source": [
    "print(\"With 95 percent confidence interval, we cannot say that Movie is a factor linked to satisfaction with this data.\")"
   ]
  },
  {
   "cell_type": "code",
   "execution_count": 109,
   "id": "6aa7120f",
   "metadata": {},
   "outputs": [],
   "source": [
    "#Factor 2: Gender"
   ]
  },
  {
   "cell_type": "code",
   "execution_count": 110,
   "id": "17a29048",
   "metadata": {},
   "outputs": [
    {
     "data": {
      "text/plain": [
       "Female    213\n",
       "Male      117\n",
       "Name: Gender, dtype: int64"
      ]
     },
     "execution_count": 110,
     "metadata": {},
     "output_type": "execute_result"
    }
   ],
   "source": [
    "films_data.Gender.value_counts()"
   ]
  },
  {
   "cell_type": "code",
   "execution_count": 111,
   "id": "123177a5",
   "metadata": {},
   "outputs": [],
   "source": [
    "overall='Overall'\n",
    "\n",
    "Female=films_data.loc[films_data.Gender=='Female', overall]\n",
    "Male=films_data.loc[films_data.Gender=='Male', overall]"
   ]
  },
  {
   "cell_type": "code",
   "execution_count": 112,
   "id": "8b9ad687",
   "metadata": {},
   "outputs": [
    {
     "name": "stdout",
     "output_type": "stream",
     "text": [
      "The t_score is: -1.393621669674226 and pvalue is:0.16437541932112798\n"
     ]
    }
   ],
   "source": [
    "t_score, pvalue=stats.ttest_ind(Female, Male)\n",
    "print(\"The t_score is: {} and pvalue is:{}\".format(t_score, pvalue))"
   ]
  },
  {
   "cell_type": "code",
   "execution_count": 113,
   "id": "be636ba0",
   "metadata": {},
   "outputs": [
    {
     "name": "stdout",
     "output_type": "stream",
     "text": [
      "We fail to reject Null Hypothesis\n"
     ]
    }
   ],
   "source": [
    "if pvalue<0.05:\n",
    "    print(\"We reject Null Hypothesis\")\n",
    "else:\n",
    "    print(\"We fail to reject Null Hypothesis\")"
   ]
  },
  {
   "cell_type": "code",
   "execution_count": 114,
   "id": "c8386ea0",
   "metadata": {},
   "outputs": [
    {
     "name": "stdout",
     "output_type": "stream",
     "text": [
      "With 95 percent confidence interval, we cannot say that Gender is a factor linked to satisfaction with this data.\n"
     ]
    }
   ],
   "source": [
    "print(\"With 95 percent confidence interval, we cannot say that Gender is a factor linked to satisfaction with this data.\")"
   ]
  },
  {
   "cell_type": "code",
   "execution_count": 115,
   "id": "af3db3c5",
   "metadata": {},
   "outputs": [],
   "source": [
    "#Factor 3: Marital_Status"
   ]
  },
  {
   "cell_type": "code",
   "execution_count": 116,
   "id": "934d50c7",
   "metadata": {},
   "outputs": [
    {
     "data": {
      "text/plain": [
       "Single     230\n",
       "Married    100\n",
       "Name: Marital_Status, dtype: int64"
      ]
     },
     "execution_count": 116,
     "metadata": {},
     "output_type": "execute_result"
    }
   ],
   "source": [
    "films_data.Marital_Status.value_counts()"
   ]
  },
  {
   "cell_type": "code",
   "execution_count": 117,
   "id": "6925aa82",
   "metadata": {},
   "outputs": [],
   "source": [
    "overall='Overall'\n",
    "\n",
    "Single=films_data.loc[films_data.Marital_Status=='Single', overall]\n",
    "Married=films_data.loc[films_data.Marital_Status=='Married', overall]"
   ]
  },
  {
   "cell_type": "code",
   "execution_count": 118,
   "id": "8c393c00",
   "metadata": {},
   "outputs": [
    {
     "name": "stdout",
     "output_type": "stream",
     "text": [
      "The t_score is: 0.7171640309514444 and pvalue is:0.47378328196635067\n"
     ]
    }
   ],
   "source": [
    "t_score, pvalue=stats.ttest_ind(Single, Married)\n",
    "print(\"The t_score is: {} and pvalue is:{}\".format(t_score, pvalue))"
   ]
  },
  {
   "cell_type": "code",
   "execution_count": 119,
   "id": "8d60fb7d",
   "metadata": {},
   "outputs": [
    {
     "name": "stdout",
     "output_type": "stream",
     "text": [
      "We fail to reject Null Hypothesis\n"
     ]
    }
   ],
   "source": [
    "if pvalue<0.05:\n",
    "    print(\"We reject Null Hypothesis\")\n",
    "else:\n",
    "    print(\"We fail to reject Null Hypothesis\")"
   ]
  },
  {
   "cell_type": "code",
   "execution_count": 120,
   "id": "86eb7b37",
   "metadata": {},
   "outputs": [
    {
     "name": "stdout",
     "output_type": "stream",
     "text": [
      "With 95 percent confidence interval, we cannot say that Marital Status is a factor linked to satisfaction with this data.\n"
     ]
    }
   ],
   "source": [
    "print(\"With 95 percent confidence interval, we cannot say that Marital Status is a factor linked to satisfaction with this data.\")"
   ]
  },
  {
   "cell_type": "code",
   "execution_count": 121,
   "id": "4d68c7f7",
   "metadata": {},
   "outputs": [],
   "source": [
    "#Factor 4: Sinage"
   ]
  },
  {
   "cell_type": "code",
   "execution_count": 122,
   "id": "be096d47",
   "metadata": {},
   "outputs": [
    {
     "data": {
      "text/plain": [
       "2.0    158\n",
       "1.0    113\n",
       "3.0     48\n",
       "4.0      6\n",
       "5.0      5\n",
       "Name: Sinage, dtype: int64"
      ]
     },
     "execution_count": 122,
     "metadata": {},
     "output_type": "execute_result"
    }
   ],
   "source": [
    "films_data.Sinage.value_counts()"
   ]
  },
  {
   "cell_type": "code",
   "execution_count": 123,
   "id": "5fe1a789",
   "metadata": {},
   "outputs": [],
   "source": [
    "PearsonR_score, pvalue=stats.pearsonr(films_data.Sinage, films_data.Overall)"
   ]
  },
  {
   "cell_type": "code",
   "execution_count": 124,
   "id": "cfd8de75",
   "metadata": {},
   "outputs": [
    {
     "name": "stdout",
     "output_type": "stream",
     "text": [
      "We reject Null Hypothesis\n"
     ]
    }
   ],
   "source": [
    "if pvalue<0.05:\n",
    "    print(\"We reject Null Hypothesis\")\n",
    "else:\n",
    "    print(\"We fail to reject Null Hypothesis\")"
   ]
  },
  {
   "cell_type": "code",
   "execution_count": 125,
   "id": "95e71bef",
   "metadata": {},
   "outputs": [
    {
     "name": "stdout",
     "output_type": "stream",
     "text": [
      "With 95 percent confidence interval, Sinage is a factor linked to satisfaction with this data.\n"
     ]
    }
   ],
   "source": [
    "print(\"With 95 percent confidence interval, Sinage is a factor linked to satisfaction with this data.\")"
   ]
  },
  {
   "cell_type": "code",
   "execution_count": 126,
   "id": "701116c7",
   "metadata": {},
   "outputs": [],
   "source": [
    "#Factor 5: Parking"
   ]
  },
  {
   "cell_type": "code",
   "execution_count": 127,
   "id": "c6adcfd3",
   "metadata": {},
   "outputs": [
    {
     "data": {
      "text/plain": [
       "2.0    155\n",
       "1.0    135\n",
       "3.0     29\n",
       "4.0      7\n",
       "5.0      4\n",
       "Name: Parking, dtype: int64"
      ]
     },
     "execution_count": 127,
     "metadata": {},
     "output_type": "execute_result"
    }
   ],
   "source": [
    "films_data.Parking.value_counts()"
   ]
  },
  {
   "cell_type": "code",
   "execution_count": 128,
   "id": "d6d0488f",
   "metadata": {},
   "outputs": [],
   "source": [
    "PearsonR_score, pvalue=stats.pearsonr(films_data.Parking, films_data.Overall)"
   ]
  },
  {
   "cell_type": "code",
   "execution_count": 129,
   "id": "2c6c9f6e",
   "metadata": {},
   "outputs": [
    {
     "name": "stdout",
     "output_type": "stream",
     "text": [
      "We reject Null Hypothesis\n"
     ]
    }
   ],
   "source": [
    "if pvalue<0.05:\n",
    "    print(\"We reject Null Hypothesis\")\n",
    "else:\n",
    "    print(\"We fail to reject Null Hypothesis\")"
   ]
  },
  {
   "cell_type": "code",
   "execution_count": 130,
   "id": "56daef83",
   "metadata": {},
   "outputs": [
    {
     "name": "stdout",
     "output_type": "stream",
     "text": [
      "With 95 percent confidence interval, Parking is a factor linked to satisfaction with this data.\n"
     ]
    }
   ],
   "source": [
    "print(\"With 95 percent confidence interval, Parking is a factor linked to satisfaction with this data.\")"
   ]
  },
  {
   "cell_type": "code",
   "execution_count": 131,
   "id": "b9b736b0",
   "metadata": {},
   "outputs": [],
   "source": [
    "#Factor 6: Clean"
   ]
  },
  {
   "cell_type": "code",
   "execution_count": 132,
   "id": "8fd43993",
   "metadata": {},
   "outputs": [
    {
     "data": {
      "text/plain": [
       "2.0    155\n",
       "1.0    144\n",
       "3.0     24\n",
       "4.0      5\n",
       "5.0      2\n",
       "Name: Clean, dtype: int64"
      ]
     },
     "execution_count": 132,
     "metadata": {},
     "output_type": "execute_result"
    }
   ],
   "source": [
    "films_data.Clean.value_counts()"
   ]
  },
  {
   "cell_type": "code",
   "execution_count": 133,
   "id": "71830b8c",
   "metadata": {},
   "outputs": [],
   "source": [
    "PearsonR_score, pvalue=stats.pearsonr(films_data.Clean, films_data.Overall)"
   ]
  },
  {
   "cell_type": "code",
   "execution_count": 134,
   "id": "db33b86d",
   "metadata": {},
   "outputs": [
    {
     "name": "stdout",
     "output_type": "stream",
     "text": [
      "We reject Null Hypothesis\n"
     ]
    }
   ],
   "source": [
    "if pvalue<0.05:\n",
    "    print(\"We reject Null Hypothesis\")\n",
    "else:\n",
    "    print(\"We fail to reject Null Hypothesis\")"
   ]
  },
  {
   "cell_type": "code",
   "execution_count": 135,
   "id": "7321c32b",
   "metadata": {},
   "outputs": [
    {
     "name": "stdout",
     "output_type": "stream",
     "text": [
      "With 95 percent confidence interval, Clean is a factor linked to satisfaction with this data.\n"
     ]
    }
   ],
   "source": [
    "print(\"With 95 percent confidence interval, Clean is a factor linked to satisfaction with this data.\")"
   ]
  },
  {
   "cell_type": "code",
   "execution_count": 136,
   "id": "6be7ffed",
   "metadata": {},
   "outputs": [],
   "source": [
    "#Factor 7: Age"
   ]
  },
  {
   "cell_type": "code",
   "execution_count": 137,
   "id": "ff58d2e0",
   "metadata": {},
   "outputs": [
    {
     "data": {
      "text/plain": [
       "2.0    177\n",
       "3.0    117\n",
       "1.0     26\n",
       "4.0     10\n",
       "Name: Age, dtype: int64"
      ]
     },
     "execution_count": 137,
     "metadata": {},
     "output_type": "execute_result"
    }
   ],
   "source": [
    "films_data.Age.value_counts()"
   ]
  },
  {
   "cell_type": "code",
   "execution_count": 138,
   "id": "4b005fec",
   "metadata": {},
   "outputs": [],
   "source": [
    "overall='Overall'\n",
    "\n",
    "s1=films_data.loc[films_data.Age==1., overall]\n",
    "s2=films_data.loc[films_data.Age==2, overall]\n",
    "s3=films_data.loc[films_data.Age==3, overall]\n",
    "s4=films_data.loc[films_data.Age==4, overall]"
   ]
  },
  {
   "cell_type": "code",
   "execution_count": 139,
   "id": "b52e4ab5",
   "metadata": {},
   "outputs": [
    {
     "data": {
      "text/plain": [
       "F_onewayResult(statistic=1.0249927945692117, pvalue=0.3816737451872579)"
      ]
     },
     "execution_count": 139,
     "metadata": {},
     "output_type": "execute_result"
    }
   ],
   "source": [
    "stats.f_oneway(s1,s2,s3,s4)"
   ]
  },
  {
   "cell_type": "code",
   "execution_count": 140,
   "id": "d4401874",
   "metadata": {},
   "outputs": [
    {
     "name": "stdout",
     "output_type": "stream",
     "text": [
      "We reject Null Hypothesis\n"
     ]
    }
   ],
   "source": [
    "if pvalue<0.05:\n",
    "    print(\"We reject Null Hypothesis\")\n",
    "else:\n",
    "    print(\"We fail to reject Null Hypothesis\")"
   ]
  },
  {
   "cell_type": "code",
   "execution_count": 141,
   "id": "445c83c8",
   "metadata": {},
   "outputs": [
    {
     "name": "stdout",
     "output_type": "stream",
     "text": [
      "With 95 percent confidence interval, we cannot say Age is a factor linked to satisfaction with this data.\n"
     ]
    }
   ],
   "source": [
    "print(\"With 95 percent confidence interval, we cannot say Age is a factor linked to satisfaction with this data.\")"
   ]
  },
  {
   "cell_type": "code",
   "execution_count": 142,
   "id": "9d4744b2",
   "metadata": {},
   "outputs": [],
   "source": [
    "#Factor 8: Income"
   ]
  },
  {
   "cell_type": "code",
   "execution_count": 143,
   "id": "74866ab6",
   "metadata": {},
   "outputs": [
    {
     "data": {
      "text/plain": [
       "1.0    158\n",
       "3.0     90\n",
       "2.0     82\n",
       "Name: Income, dtype: int64"
      ]
     },
     "execution_count": 143,
     "metadata": {},
     "output_type": "execute_result"
    }
   ],
   "source": [
    "films_data.Income.value_counts()"
   ]
  },
  {
   "cell_type": "code",
   "execution_count": 144,
   "id": "acc030a6",
   "metadata": {},
   "outputs": [],
   "source": [
    "income1=films_data.loc[films_data.Income==1, overall]\n",
    "income2=films_data.loc[films_data.Income==2, overall]\n",
    "income3=films_data.loc[films_data.Income==3, overall]"
   ]
  },
  {
   "cell_type": "code",
   "execution_count": 145,
   "id": "20a88561",
   "metadata": {},
   "outputs": [],
   "source": [
    "f_Score, pvalue=stats.f_oneway(income1,income2,income3)"
   ]
  },
  {
   "cell_type": "code",
   "execution_count": 146,
   "id": "70c5ff12",
   "metadata": {},
   "outputs": [
    {
     "name": "stdout",
     "output_type": "stream",
     "text": [
      "We fail to reject Null Hypothesis\n"
     ]
    }
   ],
   "source": [
    "if pvalue<0.05:\n",
    "    print(\"We reject Null Hypothesis\")\n",
    "else:\n",
    "    print(\"We fail to reject Null Hypothesis\")"
   ]
  },
  {
   "cell_type": "code",
   "execution_count": 147,
   "id": "6a428ab2",
   "metadata": {},
   "outputs": [
    {
     "name": "stdout",
     "output_type": "stream",
     "text": [
      "With 95 percent confidence interval, we cannot say Income is a factor linked to satisfaction with this data.\n"
     ]
    }
   ],
   "source": [
    "print(\"With 95 percent confidence interval, we cannot say Income is a factor linked to satisfaction with this data.\")"
   ]
  },
  {
   "cell_type": "code",
   "execution_count": 148,
   "id": "b969edc1",
   "metadata": {},
   "outputs": [],
   "source": [
    "#Factor 8: Hear_About"
   ]
  },
  {
   "cell_type": "code",
   "execution_count": 149,
   "id": "45aa3455",
   "metadata": {},
   "outputs": [
    {
     "data": {
      "text/plain": [
       "5      233\n",
       "4       41\n",
       "1       22\n",
       "3       14\n",
       "2       12\n",
       "2,5      2\n",
       "3,4      2\n",
       "4,5      1\n",
       "1,5      1\n",
       "5,4      1\n",
       "3,5      1\n",
       "Name: Hear_About, dtype: int64"
      ]
     },
     "execution_count": 149,
     "metadata": {},
     "output_type": "execute_result"
    }
   ],
   "source": [
    "\n",
    "films_data.Hear_About.value_counts()"
   ]
  },
  {
   "cell_type": "code",
   "execution_count": 150,
   "id": "c9514ba3",
   "metadata": {},
   "outputs": [],
   "source": [
    "Overall='Overall'\n",
    "\n",
    "Hear_About_1=films_data.loc[films_data.Hear_About==\"1\", Overall]\n",
    "Hear_About_2=films_data.loc[films_data.Hear_About==\"2\", Overall]\n",
    "Hear_About_3=films_data.loc[films_data.Hear_About==\"3\", Overall]\n",
    "Hear_About_4=films_data.loc[films_data.Hear_About==\"4\", Overall]\n",
    "Hear_About_5=films_data.loc[films_data.Hear_About==\"5\", Overall]\n",
    "Hear_About_2_5=films_data.loc[films_data.Hear_About==\"2,5\", Overall]\n",
    "Hear_About_3_4=films_data.loc[films_data.Hear_About==\"3,4\", Overall]\n",
    "Hear_About_4_5=films_data.loc[films_data.Hear_About==\"4,5\", Overall]\n",
    "Hear_About_1_5=films_data.loc[films_data.Hear_About==\"1,5\", Overall]\n",
    "Hear_About_5_4=films_data.loc[films_data.Hear_About==\"5,4\", Overall]\n",
    "Hear_About_3_5=films_data.loc[films_data.Hear_About==\"3,5\", Overall]"
   ]
  },
  {
   "cell_type": "code",
   "execution_count": 151,
   "id": "9bf64dc3",
   "metadata": {},
   "outputs": [],
   "source": [
    "f_score, pvalue=stats.f_oneway(Hear_About_5,Hear_About_4,Hear_About_3,Hear_About_2,Hear_About_1,Hear_About_2_5,Hear_About_3_4,Hear_About_4_5,Hear_About_1_5,Hear_About_5_4,Hear_About_3_5)"
   ]
  },
  {
   "cell_type": "code",
   "execution_count": 152,
   "id": "75208b2d",
   "metadata": {},
   "outputs": [
    {
     "name": "stdout",
     "output_type": "stream",
     "text": [
      "With 95 percent confidence interval, we cannot say Hear About is a factor linked to satisfaction with this data.\n"
     ]
    }
   ],
   "source": [
    "print(\"With 95 percent confidence interval, we cannot say Hear About is a factor linked to satisfaction with this data.\")"
   ]
  },
  {
   "cell_type": "code",
   "execution_count": 153,
   "id": "6a39fa0b",
   "metadata": {},
   "outputs": [],
   "source": [
    "# 3. What is the demographic profile of Film on the Rocks patrons?"
   ]
  },
  {
   "cell_type": "code",
   "execution_count": 154,
   "id": "e72678ad",
   "metadata": {},
   "outputs": [
    {
     "data": {
      "image/png": "[encoded data removed]",
      "text/plain": [
       "<Figure size 640x480 with 1 Axes>"
      ]
     },
     "metadata": {},
     "output_type": "display_data"
    }
   ],
   "source": [
    "gender_demographic=(((films_data.Gender.value_counts())/(films_data.shape[0])*100)).reset_index().set_index('index')\n",
    "plt.pie(gender_demographic.Gender,labels=gender_demographic.index,autopct='%0.2f %%')\n",
    "plt.show()"
   ]
  },
  {
   "cell_type": "code",
   "execution_count": 155,
   "id": "8fd84632",
   "metadata": {},
   "outputs": [
    {
     "data": {
      "image/png": "[encoded data removed]",
      "text/plain": [
       "<Figure size 640x480 with 1 Axes>"
      ]
     },
     "metadata": {},
     "output_type": "display_data"
    }
   ],
   "source": [
    "mstatus=(((films_data.Marital_Status.value_counts())/(films_data.shape[0])*100)).reset_index().set_index('index')\n",
    "plt.pie(mstatus.Marital_Status,labels=mstatus.index,autopct='%0.2f %%')\n",
    "plt.show()"
   ]
  },
  {
   "cell_type": "code",
   "execution_count": 156,
   "id": "a2087e33",
   "metadata": {},
   "outputs": [
    {
     "data": {
      "image/png": "[encoded data removed]",
      "text/plain": [
       "<Figure size 640x480 with 1 Axes>"
      ]
     },
     "metadata": {},
     "output_type": "display_data"
    }
   ],
   "source": [
    "Age_demographic=(((films_data.Age.value_counts())/(films_data.shape[0])*100)).reset_index().set_index('index')\n",
    "plt.pie(Age_demographic.Age,labels=Age_demographic.index,autopct='%0.2f %%')\n",
    "plt.show()"
   ]
  },
  {
   "cell_type": "code",
   "execution_count": 157,
   "id": "d0d2e325",
   "metadata": {},
   "outputs": [
    {
     "data": {
      "image/png": "[encoded data removed]",
      "text/plain": [
       "<Figure size 640x480 with 1 Axes>"
      ]
     },
     "metadata": {},
     "output_type": "display_data"
    }
   ],
   "source": [
    "Income_demographic=(((films_data.Income.value_counts())/(films_data.shape[0])*100)).reset_index().set_index('index')\n",
    "plt.pie(Income_demographic.Income,labels=Income_demographic.index,autopct='%0.2f %%')\n",
    "plt.show()"
   ]
  },
  {
   "cell_type": "code",
   "execution_count": 158,
   "id": "0eb2eb75",
   "metadata": {},
   "outputs": [],
   "source": [
    "#4. In what media outlet(s) should the film series be advertised?"
   ]
  },
  {
   "cell_type": "code",
   "execution_count": 159,
   "id": "531e8049",
   "metadata": {},
   "outputs": [
    {
     "data": {
      "text/plain": [
       "'5'"
      ]
     },
     "execution_count": 159,
     "metadata": {},
     "output_type": "execute_result"
    }
   ],
   "source": [
    "films_data.Hear_About.value_counts().reset_index().iloc[0, 0]"
   ]
  },
  {
   "cell_type": "code",
   "execution_count": 160,
   "id": "82220e38",
   "metadata": {},
   "outputs": [
    {
     "name": "stdout",
     "output_type": "stream",
     "text": [
      "The media outlet should the films series be advertised most: Word of Mouth\n"
     ]
    }
   ],
   "source": [
    "print(\"The media outlet should the films series be advertised most: Word of Mouth\")"
   ]
  }
 ],
 "metadata": {
  "kernelspec": {
   "display_name": "Python 3 (ipykernel)",
   "language": "python",
   "name": "python3"
  },
  "language_info": {
   "codemirror_mode": {
    "name": "ipython",
    "version": 3
   },
   "file_extension": ".py",
   "mimetype": "text/x-python",
   "name": "python",
   "nbconvert_exporter": "python",
   "pygments_lexer": "ipython3",
   "version": "3.11.3"
  }
 },
 "nbformat": 4,
 "nbformat_minor": 5
}
